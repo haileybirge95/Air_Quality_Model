{
 "cells": [
  {
   "cell_type": "code",
   "execution_count": 1,
   "metadata": {},
   "outputs": [],
   "source": [
    "# Dependencies\n",
    "import requests\n",
    "import json\n",
    "import pandas as pd\n",
    "from config import api_key"
   ]
  },
  {
   "cell_type": "code",
   "execution_count": 2,
   "metadata": {},
   "outputs": [],
   "source": [
    "# EPA API base URL\n",
    "base_url = f\"https://aqs.epa.gov/data/api/dailyData/byCBSA?email=rob_mm@msn.com&key={api_key}\"\n",
    "\n",
    "bdate=20230601; edate=20231231; #cbsa=16740"
   ]
  },
  {
   "cell_type": "code",
   "execution_count": 3,
   "metadata": {},
   "outputs": [],
   "source": [
    "def pull_data(param, param_code, cbsa_code='00000'):\n",
    "    # url = base_url + f\"&param={param_code}&bdate=20240101&edate=20240229&state=37&county=183\" # dailyData/byCounty \n",
    "    url = base_url + f\"&param={param_code}&bdate={bdate}&edate={edate}&cbsa={cbsa_code}\" # dailyData/byCBSA\n",
    "    \n",
    "    response = requests.get(url).json()#; print(url)\n",
    "\n",
    "    if (response['Header'][0]['status'] == 'Failed'):\n",
    "        print(f\"Error: {response['Header'][0]['error']}\")\n",
    "\n",
    "    state = []; cbsa_code = []\n",
    "    latitude = []; longitude = []\n",
    "    date = []; parameter = []\n",
    "    arithmetic_mean = []\n",
    "    units_of_measure = []\n",
    "    sample_duration_code = []\n",
    "\n",
    "    for row in range(len(response[\"Data\"])):\n",
    "        date.append(response[\"Data\"][row][\"date_local\"])\n",
    "        state.append(response[\"Data\"][row][\"state\"])\n",
    "        cbsa_code.append(response[\"Data\"][row][\"cbsa_code\"])\n",
    "        latitude.append(response[\"Data\"][row][\"latitude\"])\n",
    "        longitude.append(response[\"Data\"][row][\"longitude\"])\n",
    "        parameter.append(response[\"Data\"][row][\"parameter\"])\n",
    "        arithmetic_mean.append(response[\"Data\"][row][\"arithmetic_mean\"])\n",
    "        units_of_measure.append(response[\"Data\"][row][\"units_of_measure\"])\n",
    "        sample_duration_code.append(response[\"Data\"][row][\"sample_duration_code\"])\n",
    "\n",
    "    # create DataFrame\n",
    "    df = pd.DataFrame({\n",
    "        \"date\": date,\n",
    "        \"state\": state,\n",
    "        \"cbsa_code\": cbsa_code,\n",
    "        \"latitude\": latitude,\n",
    "        \"longitude\": longitude,\n",
    "        \"sample_duration_code\": sample_duration_code,\n",
    "        \"parameter\": parameter,\n",
    "        \"arithmetic_mean\": arithmetic_mean,\n",
    "        \"units_of_measure\": units_of_measure\n",
    "    })\n",
    "\n",
    "    return df"
   ]
  },
  {
   "cell_type": "code",
   "execution_count": 4,
   "metadata": {},
   "outputs": [],
   "source": [
    "# Merge DataFrames\n",
    "def merge_dataframes(CO_df, SO2_df, NO2_df, PM10_df, PM25_df, Temperature_df, Humidity_df):\n",
    "    # CO, SO2, NO2\n",
    "    Oxides_df = CO_df.merge(SO2_df, how='outer', on=['date', 'state', 'cbsa_code', 'latitude', 'longitude', 'sample_duration_code'], suffixes=('_CO', '_SO2'))\n",
    "    Oxides_df = Oxides_df.merge(NO2_df, how='outer', on=['date', 'state', 'cbsa_code', 'latitude', 'longitude', 'sample_duration_code'])\n",
    "\n",
    "    # PM10 and PM2.5\n",
    "    PM_df = PM10_df.merge(PM25_df, how='outer', on=['date', 'state', 'cbsa_code', 'latitude', 'longitude', 'sample_duration_code'], suffixes=('_PM10', '_PM25'))\n",
    "\n",
    "    # Temperature and Humidity\n",
    "    TH_df = Temperature_df.merge(Humidity_df, how='outer', on=['date', 'state', 'cbsa_code', 'latitude', 'longitude'], suffixes=('_Temperature', '_Humidity'))\n",
    "\n",
    "    # Oxides, PM, TH\n",
    "    tmp_df = Oxides_df.merge(PM_df, how='outer', on=['date', 'state', 'cbsa_code', 'latitude', 'longitude', 'sample_duration_code'])\n",
    "    tmp_df = tmp_df.merge(TH_df, how='outer', on=['date', 'state', 'cbsa_code', 'latitude', 'longitude'])\n",
    "\n",
    "\n",
    "    return tmp_df\n"
   ]
  },
  {
   "cell_type": "code",
   "execution_count": 5,
   "metadata": {},
   "outputs": [],
   "source": [
    "def verify_uom(pollution_df):\n",
    "    # Verify the Units of Measure (should show one row only)\n",
    "    print(pollution_df.value_counts(subset=['cbsa_code', 'units_of_measure_CO',\n",
    "                                    'units_of_measure_SO2',\n",
    "                                    'units_of_measure',\n",
    "                                    'units_of_measure_PM25',\n",
    "                                    'units_of_measure_PM10',\n",
    "                                    'units_of_measure_Temperature',\n",
    "                                    'units_of_measure_Humidity'\n",
    "                                    ]))\n"
   ]
  },
  {
   "cell_type": "code",
   "execution_count": 6,
   "metadata": {},
   "outputs": [],
   "source": [
    "def get_PopulationDensity(cbsa_code):\n",
    "    CBSA_df = pd.read_csv('USA_Core_Based_Statistical_Area.csv')\n",
    "\n",
    "    CBSA_df = CBSA_df[['CBSA_ID', 'NAME', 'POP_SQMI']]\n",
    "\n",
    "    CBSA_df.set_index('CBSA_ID', inplace=True)\n",
    "    Pop_SqMi = CBSA_df.at[int(cbsa_code), 'POP_SQMI']\n",
    "    Pop_SqKm = Pop_SqMi / 2.58998811\n",
    "    # print(f\"Pop_SqKm: {Pop_SqKm} people/km2\")\n",
    "    print(f\"Pop_SqMi: {Pop_SqMi} people/mi2\")\n",
    "\n",
    "    return Pop_SqKm"
   ]
  },
  {
   "cell_type": "code",
   "execution_count": 7,
   "metadata": {},
   "outputs": [
    {
     "name": "stdout",
     "output_type": "stream",
     "text": [
      "Pop_SqMi: 449.01 people/mi2\n"
     ]
    },
    {
     "data": {
      "text/plain": [
       "173.36373022963411"
      ]
     },
     "execution_count": 7,
     "metadata": {},
     "output_type": "execute_result"
    }
   ],
   "source": [
    "get_PopulationDensity('16740')"
   ]
  },
  {
   "cell_type": "code",
   "execution_count": 8,
   "metadata": {},
   "outputs": [],
   "source": [
    "def build_df(cbsa_code):\n",
    "    CO_df = pull_data('CO', param_code=42101, cbsa_code=cbsa_code)\n",
    "    CO_df = CO_df.drop_duplicates()\n",
    "\n",
    "    SO2_df = pull_data('SO2', param_code=42401, cbsa_code=cbsa_code)\n",
    "    SO2_df = SO2_df.drop_duplicates()\n",
    "\n",
    "    NO2_df = pull_data('NO2', param_code=42602, cbsa_code=cbsa_code)\n",
    "    NO2_df = NO2_df.drop_duplicates()\n",
    "\n",
    "    PM10_df = pull_data('PM10', param_code=81102, cbsa_code=cbsa_code)\n",
    "    PM10_df = PM10_df.drop_duplicates()\n",
    "\n",
    "    PM25_df = pull_data('PM2.5', param_code=88101, cbsa_code=cbsa_code)\n",
    "    PM25_df = PM25_df.drop_duplicates()\n",
    "\n",
    "    Humidity_df = pull_data('Humidity', param_code=62201, cbsa_code=cbsa_code)\n",
    "    Humidity_df = Humidity_df.drop_duplicates()\n",
    "\n",
    "    Temperature_df = pull_data('Temperature', param_code=68105, cbsa_code=cbsa_code)\n",
    "    Temperature_df = Temperature_df.drop_duplicates()\n",
    "    \n",
    "    pollution_df = merge_dataframes(CO_df, SO2_df, NO2_df, PM10_df, PM25_df, Temperature_df, Humidity_df)\n",
    "\n",
    "    # get_PopulationDensity(cbsa_code)\n",
    "    pollution_df.loc[:,'Population_Density'] = get_PopulationDensity(cbsa_code)\n",
    "    pollution_df.loc[:,'Proximity_to_Industrial_Areas'] = 15 # made-up value, to complete the features\n",
    "    \n",
    "    # print(f'cbsa_code: {cbsa_code} done')\n",
    "\n",
    "    return pollution_df"
   ]
  },
  {
   "cell_type": "code",
   "execution_count": 9,
   "metadata": {},
   "outputs": [],
   "source": [
    "# drop duplicate rows\n",
    "def drop_duplicates():\n",
    "    CO_df = CO_df.drop_duplicates()\n",
    "    SO2_df = SO2_df.drop_duplicates()\n",
    "    NO2_df = NO2_df.drop_duplicates()\n",
    "    PM10_df = PM10_df.drop_duplicates()\n",
    "    PM25_df = PM25_df.drop_duplicates()\n",
    "    Humidity_df = Humidity_df.drop_duplicates()\n",
    "    Temperature_df = Temperature_df.drop_duplicates()"
   ]
  },
  {
   "cell_type": "code",
   "execution_count": 10,
   "metadata": {},
   "outputs": [],
   "source": [
    "def take_important_columns_only(pollution_df):\n",
    "    # take the important columns only\n",
    "    pollution_df = pollution_df[['date',\t'state', 'cbsa_code',\n",
    "                        'arithmetic_mean_Temperature',\n",
    "                        'arithmetic_mean_Humidity',\n",
    "                        'arithmetic_mean_PM25',\n",
    "                        'arithmetic_mean_PM10',\n",
    "                        'arithmetic_mean',\n",
    "                        'arithmetic_mean_SO2',\n",
    "                        'arithmetic_mean_CO',\n",
    "                        'Population_Density',\n",
    "                        'Proximity_to_Industrial_Areas',\n",
    "                        'latitude', 'longitude']]\n",
    "    pollution_df = pollution_df.rename(columns={\"arithmetic_mean_Temperature\": \"Temperature\",\n",
    "                                    \"arithmetic_mean_Humidity\": \"Humidity\",\n",
    "                                    \"arithmetic_mean_PM25\": \"PM2.5\",\n",
    "                                    \"arithmetic_mean_PM10\": \"PM10\",\n",
    "                                    \"arithmetic_mean\": \"NO2\",\n",
    "                                    \"arithmetic_mean_SO2\": \"SO2\",\n",
    "                                    \"arithmetic_mean_CO\": \"CO\"})\n",
    "    return pollution_df"
   ]
  },
  {
   "cell_type": "code",
   "execution_count": 11,
   "metadata": {},
   "outputs": [],
   "source": [
    "from pathlib import Path\n",
    "\n",
    "def get_cbsa_codes():\n",
    "    filepath=Path('USA_Core_Based_Statistical_Area.geojson')\n",
    "    with open(filepath) as jsonfile:\n",
    "        geo_json = json.load(jsonfile)\n",
    "\n",
    "    cbsa_code_list = []\n",
    "    for i in range(len(geo_json['features'])):\n",
    "        cbsa_code_list.append(geo_json['features'][i]['properties']['CBSA_ID'])\n",
    "\n",
    "    return cbsa_code_list\n"
   ]
  },
  {
   "cell_type": "code",
   "execution_count": 12,
   "metadata": {},
   "outputs": [
    {
     "name": "stdout",
     "output_type": "stream",
     "text": [
      "Pop_SqMi: 449.01 people/mi2\n",
      "cbsa_code  units_of_measure_CO  units_of_measure_SO2  units_of_measure   units_of_measure_PM25        units_of_measure_PM10          units_of_measure_Temperature  units_of_measure_Humidity\n",
      "16740      Parts per million    Parts per billion     Parts per billion  Micrograms/cubic meter (LC)  Micrograms/cubic meter (25 C)  Degrees Centigrade            Percent relative humidity    68\n",
      "Name: count, dtype: int64\n",
      "16740: 3515 rows\n",
      "\n",
      "Pop_SqMi: 143.38 people/mi2\n",
      "Series([], Name: count, dtype: int64)\n",
      "16820: 549 rows\n",
      "\n",
      "Pop_SqMi: 264.19 people/mi2\n",
      "Series([], Name: count, dtype: int64)\n",
      "16860: 898 rows\n",
      "\n",
      "Pop_SqMi: 37.54 people/mi2\n",
      "cbsa_code  units_of_measure_CO  units_of_measure_SO2  units_of_measure   units_of_measure_PM25        units_of_measure_PM10          units_of_measure_Temperature  units_of_measure_Humidity\n",
      "16940      Parts per million    Parts per billion     Parts per billion  Micrograms/cubic meter (LC)  Micrograms/cubic meter (25 C)  Degrees Centigrade            Percent relative humidity    86\n",
      "Name: count, dtype: int64\n",
      "16940: 2341 rows\n",
      "\n"
     ]
    }
   ],
   "source": [
    "pollution_df = pd.DataFrame()\n",
    "cbsa_code_list = get_cbsa_codes()\n",
    "for cbsa_code in cbsa_code_list[158:162]:\n",
    "    pollutants_df = build_df(cbsa_code)\n",
    "    \n",
    "    verify_uom(pollutants_df)\n",
    "    print(f\"{cbsa_code}: {pollutants_df['cbsa_code'].count()} rows\\n\")\n",
    "    \n",
    "    pollutants_df = take_important_columns_only(pollutants_df)\n",
    "    pollution_df = pd.concat([pollution_df, pollutants_df]).reset_index(drop=True)"
   ]
  },
  {
   "cell_type": "code",
   "execution_count": 13,
   "metadata": {},
   "outputs": [],
   "source": [
    "filtered_df = pollution_df.dropna(how='any', ignore_index=True)\n",
    "\n",
    "filtered_df.to_csv(f'EPA_Data_{bdate}to{edate}.csv', index=False)\n"
   ]
  },
  {
   "cell_type": "code",
   "execution_count": 18,
   "metadata": {},
   "outputs": [
    {
     "data": {
      "text/html": [
       "<div>\n",
       "<style scoped>\n",
       "    .dataframe tbody tr th:only-of-type {\n",
       "        vertical-align: middle;\n",
       "    }\n",
       "\n",
       "    .dataframe tbody tr th {\n",
       "        vertical-align: top;\n",
       "    }\n",
       "\n",
       "    .dataframe thead th {\n",
       "        text-align: right;\n",
       "    }\n",
       "</style>\n",
       "<table border=\"1\" class=\"dataframe\">\n",
       "  <thead>\n",
       "    <tr style=\"text-align: right;\">\n",
       "      <th></th>\n",
       "      <th>Temperature</th>\n",
       "      <th>Humidity</th>\n",
       "      <th>PM2.5</th>\n",
       "      <th>PM10</th>\n",
       "      <th>NO2</th>\n",
       "      <th>SO2</th>\n",
       "      <th>CO</th>\n",
       "      <th>Population_Density</th>\n",
       "      <th>Proximity_to_Industrial_Areas</th>\n",
       "      <th>latitude</th>\n",
       "      <th>longitude</th>\n",
       "    </tr>\n",
       "    <tr>\n",
       "      <th>cbsa_code</th>\n",
       "      <th></th>\n",
       "      <th></th>\n",
       "      <th></th>\n",
       "      <th></th>\n",
       "      <th></th>\n",
       "      <th></th>\n",
       "      <th></th>\n",
       "      <th></th>\n",
       "      <th></th>\n",
       "      <th></th>\n",
       "      <th></th>\n",
       "    </tr>\n",
       "  </thead>\n",
       "  <tbody>\n",
       "    <tr>\n",
       "      <th>16740</th>\n",
       "      <td>29.0</td>\n",
       "      <td>96.416667</td>\n",
       "      <td>40.750000</td>\n",
       "      <td>50.583333</td>\n",
       "      <td>20.1250</td>\n",
       "      <td>0.841667</td>\n",
       "      <td>0.761458</td>\n",
       "      <td>173.363730</td>\n",
       "      <td>15</td>\n",
       "      <td>35.240100</td>\n",
       "      <td>-80.785683</td>\n",
       "    </tr>\n",
       "    <tr>\n",
       "      <th>16940</th>\n",
       "      <td>25.0</td>\n",
       "      <td>100.000000</td>\n",
       "      <td>9.666667</td>\n",
       "      <td>26.458333</td>\n",
       "      <td>7.9625</td>\n",
       "      <td>0.291304</td>\n",
       "      <td>0.219913</td>\n",
       "      <td>14.494275</td>\n",
       "      <td>15</td>\n",
       "      <td>41.182227</td>\n",
       "      <td>-104.778334</td>\n",
       "    </tr>\n",
       "  </tbody>\n",
       "</table>\n",
       "</div>"
      ],
      "text/plain": [
       "           Temperature    Humidity      PM2.5       PM10      NO2       SO2  \\\n",
       "cbsa_code                                                                     \n",
       "16740             29.0   96.416667  40.750000  50.583333  20.1250  0.841667   \n",
       "16940             25.0  100.000000   9.666667  26.458333   7.9625  0.291304   \n",
       "\n",
       "                 CO  Population_Density  Proximity_to_Industrial_Areas  \\\n",
       "cbsa_code                                                                \n",
       "16740      0.761458          173.363730                             15   \n",
       "16940      0.219913           14.494275                             15   \n",
       "\n",
       "            latitude   longitude  \n",
       "cbsa_code                         \n",
       "16740      35.240100  -80.785683  \n",
       "16940      41.182227 -104.778334  "
      ]
     },
     "execution_count": 18,
     "metadata": {},
     "output_type": "execute_result"
    }
   ],
   "source": [
    "# Get Max Values\n",
    "filtered_df.groupby(['cbsa_code']).max(numeric_only=True)"
   ]
  },
  {
   "cell_type": "code",
   "execution_count": 19,
   "metadata": {},
   "outputs": [
    {
     "data": {
      "text/html": [
       "<div>\n",
       "<style scoped>\n",
       "    .dataframe tbody tr th:only-of-type {\n",
       "        vertical-align: middle;\n",
       "    }\n",
       "\n",
       "    .dataframe tbody tr th {\n",
       "        vertical-align: top;\n",
       "    }\n",
       "\n",
       "    .dataframe thead th {\n",
       "        text-align: right;\n",
       "    }\n",
       "</style>\n",
       "<table border=\"1\" class=\"dataframe\">\n",
       "  <thead>\n",
       "    <tr style=\"text-align: right;\">\n",
       "      <th></th>\n",
       "      <th>Temperature</th>\n",
       "      <th>Humidity</th>\n",
       "      <th>PM2.5</th>\n",
       "      <th>PM10</th>\n",
       "      <th>NO2</th>\n",
       "      <th>SO2</th>\n",
       "      <th>CO</th>\n",
       "      <th>Population_Density</th>\n",
       "      <th>Proximity_to_Industrial_Areas</th>\n",
       "      <th>latitude</th>\n",
       "      <th>longitude</th>\n",
       "    </tr>\n",
       "    <tr>\n",
       "      <th>cbsa_code</th>\n",
       "      <th></th>\n",
       "      <th></th>\n",
       "      <th></th>\n",
       "      <th></th>\n",
       "      <th></th>\n",
       "      <th></th>\n",
       "      <th></th>\n",
       "      <th></th>\n",
       "      <th></th>\n",
       "      <th></th>\n",
       "      <th></th>\n",
       "    </tr>\n",
       "  </thead>\n",
       "  <tbody>\n",
       "    <tr>\n",
       "      <th>16740</th>\n",
       "      <td>2.3</td>\n",
       "      <td>47.500000</td>\n",
       "      <td>1.625000</td>\n",
       "      <td>3.458333</td>\n",
       "      <td>1.390909</td>\n",
       "      <td>0.000000</td>\n",
       "      <td>0.14513</td>\n",
       "      <td>173.363730</td>\n",
       "      <td>15</td>\n",
       "      <td>35.240100</td>\n",
       "      <td>-80.785683</td>\n",
       "    </tr>\n",
       "    <tr>\n",
       "      <th>16940</th>\n",
       "      <td>-4.9</td>\n",
       "      <td>20.208333</td>\n",
       "      <td>2.095238</td>\n",
       "      <td>0.941176</td>\n",
       "      <td>0.795833</td>\n",
       "      <td>-0.008696</td>\n",
       "      <td>-0.03700</td>\n",
       "      <td>14.494275</td>\n",
       "      <td>15</td>\n",
       "      <td>41.182227</td>\n",
       "      <td>-104.778334</td>\n",
       "    </tr>\n",
       "  </tbody>\n",
       "</table>\n",
       "</div>"
      ],
      "text/plain": [
       "           Temperature   Humidity     PM2.5      PM10       NO2       SO2  \\\n",
       "cbsa_code                                                                   \n",
       "16740              2.3  47.500000  1.625000  3.458333  1.390909  0.000000   \n",
       "16940             -4.9  20.208333  2.095238  0.941176  0.795833 -0.008696   \n",
       "\n",
       "                CO  Population_Density  Proximity_to_Industrial_Areas  \\\n",
       "cbsa_code                                                               \n",
       "16740      0.14513          173.363730                             15   \n",
       "16940     -0.03700           14.494275                             15   \n",
       "\n",
       "            latitude   longitude  \n",
       "cbsa_code                         \n",
       "16740      35.240100  -80.785683  \n",
       "16940      41.182227 -104.778334  "
      ]
     },
     "execution_count": 19,
     "metadata": {},
     "output_type": "execute_result"
    }
   ],
   "source": [
    "# Get Min Values\n",
    "filtered_df.groupby(['cbsa_code']).min(numeric_only=True)"
   ]
  },
  {
   "cell_type": "markdown",
   "metadata": {},
   "source": [
    "## For Cross-Checking Only"
   ]
  },
  {
   "cell_type": "code",
   "execution_count": null,
   "metadata": {},
   "outputs": [],
   "source": [
    "# Use this to cross-check the source rows with filtered_df\n",
    "df = PM25_df\n",
    "df.loc[ (df['date'] == '2023-06-02')&\n",
    "        (df['state'] == 'North Carolina')&\n",
    "        (df['cbsa_code'] == 'Mecklenburg') &\n",
    "        (df['sample_duration_code'] == '1') &\n",
    "        (df['latitude'] == 35.2401) &\n",
    "        (df['longitude'] == -80.785683)\n",
    "    ]"
   ]
  },
  {
   "cell_type": "code",
   "execution_count": null,
   "metadata": {},
   "outputs": [],
   "source": [
    "filtered_df.loc[filtered_df['date'] == '2023-06-02']"
   ]
  },
  {
   "cell_type": "markdown",
   "metadata": {},
   "source": [
    "## Population Density"
   ]
  },
  {
   "cell_type": "code",
   "execution_count": 38,
   "metadata": {},
   "outputs": [],
   "source": [
    "CBSA_df = pd.read_csv('USA_Core_Based_Statistical_Area.csv')\n",
    "\n",
    "CBSA_df = CBSA_df[['CBSA_ID', 'NAME', 'POP_SQMI']]\n",
    "# CBSA_df.head()"
   ]
  },
  {
   "cell_type": "code",
   "execution_count": null,
   "metadata": {},
   "outputs": [],
   "source": [
    "def get_PopulationDensity(cbsa_code):\n",
    "    CBSA_df = pd.read_csv('USA_Core_Based_Statistical_Area.csv')\n",
    "\n",
    "    CBSA_df = CBSA_df[['CBSA_ID', 'NAME', 'POP_SQMI']]\n",
    "\n",
    "    CBSA_df.set_index('CBSA_ID', inplace=True)\n",
    "    Pop_SqMi = CBSA_df.at[cbsa_code, 'POP_SQMI']\n",
    "    Pop_SqKm = Pop_SqMi / 2.58998811\n",
    "    # print(f\"Pop_SqKm: {Pop_SqKm} people/km2\")\n",
    "    print(f\"Pop_SqMi: {Pop_SqMi} people/mi2\")\n",
    "\n",
    "    return Pop_SqKm"
   ]
  },
  {
   "cell_type": "code",
   "execution_count": null,
   "metadata": {},
   "outputs": [],
   "source": [
    "# import numpy as np\n",
    "# filtered_df.loc[:,'Population_Density'] = Pop_SqKm\n",
    "# filtered_df.loc[:,'Proximity_to_Industrial_Areas'] = 15 # made-up value, to make dataset with complete features\n",
    "# filtered_df\n",
    "filtered_df.value_counts(subset=['cbsa_code', 'Population_Density', 'Proximity_to_Industrial_Areas'])"
   ]
  },
  {
   "cell_type": "markdown",
   "metadata": {},
   "source": [
    "## Get all cbsa_code from geojson file"
   ]
  },
  {
   "cell_type": "code",
   "execution_count": null,
   "metadata": {},
   "outputs": [],
   "source": [
    "from pathlib import Path\n",
    "\n",
    "def get_cbsa_codes():\n",
    "    filepath=Path('USA_Core_Based_Statistical_Area.geojson')\n",
    "    with open(filepath) as jsonfile:\n",
    "        geo_json = json.load(jsonfile)\n",
    "\n",
    "    cbsa_code_list = []\n",
    "    for i in range(len(geo_json['features'])):\n",
    "        cbsa_code_list.append(geo_json['features'][i]['properties']['CBSA_ID'])\n",
    "\n",
    "    return cbsa_code_list\n",
    "\n",
    "# print(len(cbsa_code_list))\n",
    "# geo_json['features'][158]['properties']['CBSA_ID']\n",
    "# geo_json['features'][158]['properties']['NAME']\n",
    "# features = geo_json['features']\n",
    "# print(cbsa_code_list[0:21])"
   ]
  }
 ],
 "metadata": {
  "kernelspec": {
   "display_name": "dev",
   "language": "python",
   "name": "python3"
  },
  "language_info": {
   "codemirror_mode": {
    "name": "ipython",
    "version": 3
   },
   "file_extension": ".py",
   "mimetype": "text/x-python",
   "name": "python",
   "nbconvert_exporter": "python",
   "pygments_lexer": "ipython3",
   "version": "3.10.14"
  },
  "varInspector": {
   "cols": {
    "lenName": 16,
    "lenType": 16,
    "lenVar": 40
   },
   "kernels_config": {
    "python": {
     "delete_cmd_postfix": "",
     "delete_cmd_prefix": "del ",
     "library": "var_list.py",
     "varRefreshCmd": "print(var_dic_list())"
    },
    "r": {
     "delete_cmd_postfix": ") ",
     "delete_cmd_prefix": "rm(",
     "library": "var_list.r",
     "varRefreshCmd": "cat(var_dic_list()) "
    }
   },
   "types_to_exclude": [
    "module",
    "function",
    "builtin_function_or_method",
    "instance",
    "_Feature"
   ],
   "window_display": false
  }
 },
 "nbformat": 4,
 "nbformat_minor": 2
}
