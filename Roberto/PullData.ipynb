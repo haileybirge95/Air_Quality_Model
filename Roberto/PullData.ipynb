{
 "cells": [
  {
   "cell_type": "code",
   "execution_count": 1,
   "metadata": {},
   "outputs": [
    {
     "name": "stdout",
     "output_type": "stream",
     "text": [
      "baycrane76\n"
     ]
    }
   ],
   "source": [
    "# Dependencies\n",
    "import requests\n",
    "import json\n",
    "import pandas as pd\n",
    "from config import api_key"
   ]
  },
  {
   "cell_type": "code",
   "execution_count": 2,
   "metadata": {},
   "outputs": [],
   "source": [
    "# EPA API base URL\n",
    "base_url = f\"https://aqs.epa.gov/data/api/dailyData/byCBSA?email=rob_mm@msn.com&key={api_key}\"\n",
    "\n",
    "bdate=20230601; edate=20231231; cbsa=16740"
   ]
  },
  {
   "cell_type": "code",
   "execution_count": 3,
   "metadata": {},
   "outputs": [],
   "source": [
    "def pull_data(param, param_code):\n",
    "    # url = base_url + f\"&param={param_code}&bdate=20240101&edate=20240229&state=37&county=183\" # dailyData/byCounty \n",
    "    url = base_url + f\"&param={param_code}&bdate={bdate}&edate={edate}&cbsa={cbsa}\" # dailyData/byCBSA\n",
    "    response = requests.get(url).json()\n",
    "    # print(response)\n",
    "\n",
    "    state = []; county = []\n",
    "    latitude = []; longitude = []\n",
    "    date = []; parameter = []\n",
    "    arithmetic_mean = []\n",
    "    units_of_measure = []\n",
    "    sample_duration_code = []\n",
    "\n",
    "    for row in range(len(response[\"Data\"])):\n",
    "        date.append(response[\"Data\"][row][\"date_local\"])\n",
    "        state.append(response[\"Data\"][row][\"state\"])\n",
    "        county.append(response[\"Data\"][row][\"county\"])\n",
    "        latitude.append(response[\"Data\"][row][\"latitude\"])\n",
    "        longitude.append(response[\"Data\"][row][\"longitude\"])\n",
    "        parameter.append(response[\"Data\"][row][\"parameter\"])\n",
    "        arithmetic_mean.append(response[\"Data\"][row][\"arithmetic_mean\"])\n",
    "        units_of_measure.append(response[\"Data\"][row][\"units_of_measure\"])\n",
    "        sample_duration_code.append(response[\"Data\"][row][\"sample_duration_code\"])\n",
    "\n",
    "    # create DataFrame\n",
    "    df = pd.DataFrame({\n",
    "        \"date\": date,\n",
    "        \"state\": state,\n",
    "        \"county\": county,\n",
    "        \"latitude\": latitude,\n",
    "        \"longitude\": longitude,\n",
    "        \"sample_duration_code\": sample_duration_code,\n",
    "        \"parameter\": parameter,\n",
    "        \"arithmetic_mean\": arithmetic_mean,\n",
    "        \"units_of_measure\": units_of_measure\n",
    "    })\n",
    "\n",
    "    return df"
   ]
  },
  {
   "cell_type": "code",
   "execution_count": 4,
   "metadata": {},
   "outputs": [],
   "source": [
    "CO_df = pull_data('CO', param_code=42101)\n",
    "SO2_df = pull_data('SO2', param_code=42401)\n",
    "NO2_df = pull_data('NO2', param_code=42602)\n",
    "PM10_df = pull_data('PM10', param_code=81102)\n",
    "PM25_df = pull_data('PM2.5', param_code=88101)\n",
    "Temperature_df = pull_data('Temperature', param_code=68105)\n",
    "Humidity_df = pull_data('Humidity', param_code=62201)"
   ]
  },
  {
   "cell_type": "code",
   "execution_count": 5,
   "metadata": {},
   "outputs": [],
   "source": [
    "# drop duplicate rows\n",
    "CO_df = CO_df.drop_duplicates()\n",
    "SO2_df = SO2_df.drop_duplicates()\n",
    "NO2_df = NO2_df.drop_duplicates()\n",
    "PM10_df = PM10_df.drop_duplicates()\n",
    "PM25_df = PM25_df.drop_duplicates()\n",
    "Humidity_df = Humidity_df.drop_duplicates()\n",
    "Temperature_df = Temperature_df.drop_duplicates()"
   ]
  },
  {
   "cell_type": "code",
   "execution_count": 6,
   "metadata": {},
   "outputs": [],
   "source": [
    "# Merge DataFrames\n",
    "\n",
    "# CO, SO2, NO2\n",
    "Oxides_df = CO_df.merge(SO2_df, how='outer', on=['date', 'state', 'county', 'latitude', 'longitude', 'sample_duration_code'], suffixes=('_CO', '_SO2'))\n",
    "Oxides_df = Oxides_df.merge(NO2_df, how='outer', on=['date', 'state', 'county', 'latitude', 'longitude', 'sample_duration_code'])\n",
    "\n",
    "# PM10 and PM2.5\n",
    "PM_df = PM10_df.merge(PM25_df, how='outer', on=['date', 'state', 'county', 'latitude', 'longitude', 'sample_duration_code'], suffixes=('_PM10', '_PM25'))\n",
    "\n",
    "# Temperature and Humidity\n",
    "TH_df = Temperature_df.merge(Humidity_df, how='outer', on=['date', 'state', 'county', 'latitude', 'longitude'], suffixes=('_Temperature', '_Humidity'))\n",
    "\n",
    "# Oxides, PM, TH\n",
    "tmp_df = Oxides_df.merge(PM_df, how='outer', on=['date', 'state', 'county', 'latitude', 'longitude', 'sample_duration_code'])\n",
    "pollution_df = tmp_df.merge(TH_df, how='outer', on=['date', 'state', 'county', 'latitude', 'longitude'])\n",
    "\n",
    "# delete this line later\n",
    "# pollution_df = pollution_df.merge(Humidity_df, how='inner', on=['date', 'state', 'county', 'latitude', 'longitude', 'sample_duration_code'], suffixes=('_NO2', '_Humidity'))\n"
   ]
  },
  {
   "cell_type": "code",
   "execution_count": 7,
   "metadata": {},
   "outputs": [
    {
     "data": {
      "text/plain": [
       "units_of_measure_CO  units_of_measure_SO2  units_of_measure   units_of_measure_PM25        units_of_measure_PM10          units_of_measure_Temperature  units_of_measure_Humidity\n",
       "Parts per million    Parts per billion     Parts per billion  Micrograms/cubic meter (LC)  Micrograms/cubic meter (25 C)  Degrees Centigrade            Percent relative humidity    68\n",
       "Name: count, dtype: int64"
      ]
     },
     "execution_count": 7,
     "metadata": {},
     "output_type": "execute_result"
    }
   ],
   "source": [
    "# Verify the Units of Measure (should show one row only)\n",
    "pollution_df.value_counts(subset=['units_of_measure_CO',\n",
    "                                  'units_of_measure_SO2',\n",
    "                                  'units_of_measure',\n",
    "                                  'units_of_measure_PM25',\n",
    "                                  'units_of_measure_PM10',\n",
    "                                  'units_of_measure_Temperature',\n",
    "                                  'units_of_measure_Humidity'\n",
    "                                  ])"
   ]
  },
  {
   "cell_type": "code",
   "execution_count": 8,
   "metadata": {},
   "outputs": [
    {
     "data": {
      "text/html": [
       "<div>\n",
       "<style scoped>\n",
       "    .dataframe tbody tr th:only-of-type {\n",
       "        vertical-align: middle;\n",
       "    }\n",
       "\n",
       "    .dataframe tbody tr th {\n",
       "        vertical-align: top;\n",
       "    }\n",
       "\n",
       "    .dataframe thead th {\n",
       "        text-align: right;\n",
       "    }\n",
       "</style>\n",
       "<table border=\"1\" class=\"dataframe\">\n",
       "  <thead>\n",
       "    <tr style=\"text-align: right;\">\n",
       "      <th></th>\n",
       "      <th>date</th>\n",
       "      <th>state</th>\n",
       "      <th>county</th>\n",
       "      <th>Temperature</th>\n",
       "      <th>Humidity</th>\n",
       "      <th>PM2.5</th>\n",
       "      <th>PM10</th>\n",
       "      <th>NO2</th>\n",
       "      <th>SO2</th>\n",
       "      <th>CO</th>\n",
       "      <th>latitude</th>\n",
       "      <th>longitude</th>\n",
       "    </tr>\n",
       "  </thead>\n",
       "  <tbody>\n",
       "    <tr>\n",
       "      <th>0</th>\n",
       "      <td>2023-06-01</td>\n",
       "      <td>North Carolina</td>\n",
       "      <td>Mecklenburg</td>\n",
       "      <td>NaN</td>\n",
       "      <td>NaN</td>\n",
       "      <td>NaN</td>\n",
       "      <td>10.705882</td>\n",
       "      <td>NaN</td>\n",
       "      <td>NaN</td>\n",
       "      <td>NaN</td>\n",
       "      <td>35.123954</td>\n",
       "      <td>-80.907577</td>\n",
       "    </tr>\n",
       "    <tr>\n",
       "      <th>1</th>\n",
       "      <td>2023-06-01</td>\n",
       "      <td>North Carolina</td>\n",
       "      <td>Mecklenburg</td>\n",
       "      <td>NaN</td>\n",
       "      <td>64.625</td>\n",
       "      <td>10.791667</td>\n",
       "      <td>NaN</td>\n",
       "      <td>11.508333</td>\n",
       "      <td>NaN</td>\n",
       "      <td>0.293957</td>\n",
       "      <td>35.213171</td>\n",
       "      <td>-80.874084</td>\n",
       "    </tr>\n",
       "    <tr>\n",
       "      <th>2</th>\n",
       "      <td>2023-06-01</td>\n",
       "      <td>North Carolina</td>\n",
       "      <td>Mecklenburg</td>\n",
       "      <td>NaN</td>\n",
       "      <td>64.625</td>\n",
       "      <td>10.700000</td>\n",
       "      <td>NaN</td>\n",
       "      <td>NaN</td>\n",
       "      <td>NaN</td>\n",
       "      <td>NaN</td>\n",
       "      <td>35.213171</td>\n",
       "      <td>-80.874084</td>\n",
       "    </tr>\n",
       "    <tr>\n",
       "      <th>3</th>\n",
       "      <td>2023-06-01</td>\n",
       "      <td>North Carolina</td>\n",
       "      <td>Mecklenburg</td>\n",
       "      <td>NaN</td>\n",
       "      <td>64.625</td>\n",
       "      <td>NaN</td>\n",
       "      <td>NaN</td>\n",
       "      <td>NaN</td>\n",
       "      <td>NaN</td>\n",
       "      <td>0.304167</td>\n",
       "      <td>35.213171</td>\n",
       "      <td>-80.874084</td>\n",
       "    </tr>\n",
       "    <tr>\n",
       "      <th>4</th>\n",
       "      <td>2023-06-01</td>\n",
       "      <td>North Carolina</td>\n",
       "      <td>Mecklenburg</td>\n",
       "      <td>NaN</td>\n",
       "      <td>67.875</td>\n",
       "      <td>9.166667</td>\n",
       "      <td>16.916667</td>\n",
       "      <td>5.245833</td>\n",
       "      <td>0.187500</td>\n",
       "      <td>0.236435</td>\n",
       "      <td>35.240100</td>\n",
       "      <td>-80.785683</td>\n",
       "    </tr>\n",
       "    <tr>\n",
       "      <th>...</th>\n",
       "      <td>...</td>\n",
       "      <td>...</td>\n",
       "      <td>...</td>\n",
       "      <td>...</td>\n",
       "      <td>...</td>\n",
       "      <td>...</td>\n",
       "      <td>...</td>\n",
       "      <td>...</td>\n",
       "      <td>...</td>\n",
       "      <td>...</td>\n",
       "      <td>...</td>\n",
       "      <td>...</td>\n",
       "    </tr>\n",
       "    <tr>\n",
       "      <th>3510</th>\n",
       "      <td>2023-12-31</td>\n",
       "      <td>South Carolina</td>\n",
       "      <td>York</td>\n",
       "      <td>NaN</td>\n",
       "      <td>NaN</td>\n",
       "      <td>7.900000</td>\n",
       "      <td>NaN</td>\n",
       "      <td>NaN</td>\n",
       "      <td>NaN</td>\n",
       "      <td>NaN</td>\n",
       "      <td>34.912700</td>\n",
       "      <td>-80.874500</td>\n",
       "    </tr>\n",
       "    <tr>\n",
       "      <th>3511</th>\n",
       "      <td>2023-12-31</td>\n",
       "      <td>South Carolina</td>\n",
       "      <td>York</td>\n",
       "      <td>NaN</td>\n",
       "      <td>NaN</td>\n",
       "      <td>NaN</td>\n",
       "      <td>NaN</td>\n",
       "      <td>NaN</td>\n",
       "      <td>-0.129167</td>\n",
       "      <td>NaN</td>\n",
       "      <td>34.977000</td>\n",
       "      <td>-81.207000</td>\n",
       "    </tr>\n",
       "    <tr>\n",
       "      <th>3512</th>\n",
       "      <td>2023-12-31</td>\n",
       "      <td>South Carolina</td>\n",
       "      <td>York</td>\n",
       "      <td>NaN</td>\n",
       "      <td>NaN</td>\n",
       "      <td>NaN</td>\n",
       "      <td>NaN</td>\n",
       "      <td>NaN</td>\n",
       "      <td>-0.128819</td>\n",
       "      <td>NaN</td>\n",
       "      <td>34.977000</td>\n",
       "      <td>-81.207000</td>\n",
       "    </tr>\n",
       "    <tr>\n",
       "      <th>3513</th>\n",
       "      <td>2023-12-31</td>\n",
       "      <td>South Carolina</td>\n",
       "      <td>York</td>\n",
       "      <td>NaN</td>\n",
       "      <td>NaN</td>\n",
       "      <td>NaN</td>\n",
       "      <td>NaN</td>\n",
       "      <td>NaN</td>\n",
       "      <td>-0.100000</td>\n",
       "      <td>NaN</td>\n",
       "      <td>34.977000</td>\n",
       "      <td>-81.207000</td>\n",
       "    </tr>\n",
       "    <tr>\n",
       "      <th>3514</th>\n",
       "      <td>2023-12-31</td>\n",
       "      <td>South Carolina</td>\n",
       "      <td>York</td>\n",
       "      <td>NaN</td>\n",
       "      <td>NaN</td>\n",
       "      <td>NaN</td>\n",
       "      <td>NaN</td>\n",
       "      <td>NaN</td>\n",
       "      <td>-0.112500</td>\n",
       "      <td>NaN</td>\n",
       "      <td>34.977000</td>\n",
       "      <td>-81.207000</td>\n",
       "    </tr>\n",
       "  </tbody>\n",
       "</table>\n",
       "<p>3515 rows × 12 columns</p>\n",
       "</div>"
      ],
      "text/plain": [
       "            date           state       county  Temperature  Humidity  \\\n",
       "0     2023-06-01  North Carolina  Mecklenburg          NaN       NaN   \n",
       "1     2023-06-01  North Carolina  Mecklenburg          NaN    64.625   \n",
       "2     2023-06-01  North Carolina  Mecklenburg          NaN    64.625   \n",
       "3     2023-06-01  North Carolina  Mecklenburg          NaN    64.625   \n",
       "4     2023-06-01  North Carolina  Mecklenburg          NaN    67.875   \n",
       "...          ...             ...          ...          ...       ...   \n",
       "3510  2023-12-31  South Carolina         York          NaN       NaN   \n",
       "3511  2023-12-31  South Carolina         York          NaN       NaN   \n",
       "3512  2023-12-31  South Carolina         York          NaN       NaN   \n",
       "3513  2023-12-31  South Carolina         York          NaN       NaN   \n",
       "3514  2023-12-31  South Carolina         York          NaN       NaN   \n",
       "\n",
       "          PM2.5       PM10        NO2       SO2        CO   latitude  \\\n",
       "0           NaN  10.705882        NaN       NaN       NaN  35.123954   \n",
       "1     10.791667        NaN  11.508333       NaN  0.293957  35.213171   \n",
       "2     10.700000        NaN        NaN       NaN       NaN  35.213171   \n",
       "3           NaN        NaN        NaN       NaN  0.304167  35.213171   \n",
       "4      9.166667  16.916667   5.245833  0.187500  0.236435  35.240100   \n",
       "...         ...        ...        ...       ...       ...        ...   \n",
       "3510   7.900000        NaN        NaN       NaN       NaN  34.912700   \n",
       "3511        NaN        NaN        NaN -0.129167       NaN  34.977000   \n",
       "3512        NaN        NaN        NaN -0.128819       NaN  34.977000   \n",
       "3513        NaN        NaN        NaN -0.100000       NaN  34.977000   \n",
       "3514        NaN        NaN        NaN -0.112500       NaN  34.977000   \n",
       "\n",
       "      longitude  \n",
       "0    -80.907577  \n",
       "1    -80.874084  \n",
       "2    -80.874084  \n",
       "3    -80.874084  \n",
       "4    -80.785683  \n",
       "...         ...  \n",
       "3510 -80.874500  \n",
       "3511 -81.207000  \n",
       "3512 -81.207000  \n",
       "3513 -81.207000  \n",
       "3514 -81.207000  \n",
       "\n",
       "[3515 rows x 12 columns]"
      ]
     },
     "execution_count": 8,
     "metadata": {},
     "output_type": "execute_result"
    }
   ],
   "source": [
    "# take the important columns only\n",
    "pollution_df = pollution_df[['date',\t'state', 'county',\n",
    "                       'arithmetic_mean_Temperature',\n",
    "                       'arithmetic_mean_Humidity',\n",
    "                       'arithmetic_mean_PM25',\n",
    "                       'arithmetic_mean_PM10',\n",
    "                       'arithmetic_mean',\n",
    "                       'arithmetic_mean_SO2',\n",
    "                       'arithmetic_mean_CO',\n",
    "                       'latitude', 'longitude']]\n",
    "pollution_df = pollution_df.rename(columns={\"arithmetic_mean_Temperature\": \"Temperature\",\n",
    "                                \"arithmetic_mean_Humidity\": \"Humidity\",\n",
    "                                \"arithmetic_mean_PM25\": \"PM2.5\",\n",
    "                                \"arithmetic_mean_PM10\": \"PM10\",\n",
    "                                \"arithmetic_mean\": \"NO2\",\n",
    "                                \"arithmetic_mean_SO2\": \"SO2\",\n",
    "                                \"arithmetic_mean_CO\": \"CO\"})\n",
    "pollution_df"
   ]
  },
  {
   "cell_type": "code",
   "execution_count": 9,
   "metadata": {},
   "outputs": [],
   "source": [
    "filtered_df = pollution_df.dropna(how='any', ignore_index=True)\n"
   ]
  },
  {
   "cell_type": "markdown",
   "metadata": {},
   "source": [
    "# For Cross-Checking Only"
   ]
  },
  {
   "cell_type": "code",
   "execution_count": null,
   "metadata": {},
   "outputs": [],
   "source": [
    "# Use this to cross-check the source rows with filtered_df\n",
    "df = PM25_df\n",
    "df.loc[ (df['date'] == '2023-06-02')&\n",
    "        (df['state'] == 'North Carolina')&\n",
    "        (df['county'] == 'Mecklenburg') &\n",
    "        (df['sample_duration_code'] == '1') &\n",
    "        (df['latitude'] == 35.2401) &\n",
    "        (df['longitude'] == -80.785683)\n",
    "    ]"
   ]
  },
  {
   "cell_type": "code",
   "execution_count": null,
   "metadata": {},
   "outputs": [],
   "source": [
    "filtered_df.loc[filtered_df['date'] == '2023-06-02']"
   ]
  },
  {
   "cell_type": "markdown",
   "metadata": {},
   "source": [
    "# Population Density"
   ]
  },
  {
   "cell_type": "code",
   "execution_count": 10,
   "metadata": {},
   "outputs": [],
   "source": [
    "CBSA_df = pd.read_csv('USA_Core_Based_Statistical_Area.csv')\n",
    "\n",
    "CBSA_df = CBSA_df[['CBSA_ID', 'NAME', 'POP_SQMI']]\n",
    "# CBSA_df.head()"
   ]
  },
  {
   "cell_type": "code",
   "execution_count": 11,
   "metadata": {},
   "outputs": [
    {
     "name": "stdout",
     "output_type": "stream",
     "text": [
      "Pop_SqKm: 173.36373022963411 people/km2\n",
      "Pop_SqMi: 449.01 people/mi2\n"
     ]
    }
   ],
   "source": [
    "CBSA_df.set_index('CBSA_ID', inplace=True)\n",
    "Pop_SqMi = CBSA_df.at[cbsa, 'POP_SQMI']\n",
    "Pop_SqKm = Pop_SqMi / 2.58998811\n",
    "print(f\"Pop_SqKm: {Pop_SqKm} people/km2\")\n",
    "print(f\"Pop_SqMi: {Pop_SqMi} people/mi2\")"
   ]
  },
  {
   "cell_type": "code",
   "execution_count": 14,
   "metadata": {},
   "outputs": [],
   "source": [
    "import numpy as np\n",
    "filtered_df.loc[:,'Population_Density'] = Pop_SqKm\n",
    "filtered_df\n",
    "\n",
    "filtered_df.to_csv(f'EPA_Data_{cbsa}-{bdate}to{edate}.csv', index=False)"
   ]
  }
 ],
 "metadata": {
  "kernelspec": {
   "display_name": "dev",
   "language": "python",
   "name": "python3"
  },
  "language_info": {
   "codemirror_mode": {
    "name": "ipython",
    "version": 3
   },
   "file_extension": ".py",
   "mimetype": "text/x-python",
   "name": "python",
   "nbconvert_exporter": "python",
   "pygments_lexer": "ipython3",
   "version": "3.10.14"
  },
  "varInspector": {
   "cols": {
    "lenName": 16,
    "lenType": 16,
    "lenVar": 40
   },
   "kernels_config": {
    "python": {
     "delete_cmd_postfix": "",
     "delete_cmd_prefix": "del ",
     "library": "var_list.py",
     "varRefreshCmd": "print(var_dic_list())"
    },
    "r": {
     "delete_cmd_postfix": ") ",
     "delete_cmd_prefix": "rm(",
     "library": "var_list.r",
     "varRefreshCmd": "cat(var_dic_list()) "
    }
   },
   "types_to_exclude": [
    "module",
    "function",
    "builtin_function_or_method",
    "instance",
    "_Feature"
   ],
   "window_display": false
  }
 },
 "nbformat": 4,
 "nbformat_minor": 2
}
