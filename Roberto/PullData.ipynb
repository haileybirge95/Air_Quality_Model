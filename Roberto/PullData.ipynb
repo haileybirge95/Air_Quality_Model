{
 "cells": [
  {
   "cell_type": "code",
   "execution_count": 1,
   "metadata": {},
   "outputs": [],
   "source": [
    "# Dependencies\n",
    "import requests\n",
    "import json\n",
    "import pandas as pd\n",
    "import matplotlib.pyplot as plt"
   ]
  },
  {
   "cell_type": "code",
   "execution_count": 2,
   "metadata": {},
   "outputs": [],
   "source": [
    "import param\n",
    "\n",
    "# EPA CO search base URL\n",
    "base_url = \"https://aqs.epa.gov/data/api/dailyData/byCounty?email=rob_mm@msn.com&key=khakiosprey53\"\n",
    "\n"
   ]
  },
  {
   "cell_type": "code",
   "execution_count": 3,
   "metadata": {},
   "outputs": [],
   "source": [
    "def pull_data(param, param_code):\n",
    "    url = base_url + f\"&param={param_code}&bdate=20240101&edate=20240229&state=37&county=183\"\n",
    "    response = requests.get(url).json()\n",
    "\n",
    "    state = []; county = []\n",
    "    latitude = []; longitude = []\n",
    "    date = []; parameter = []\n",
    "    arithmetic_mean = []\n",
    "    units_of_measure = []\n",
    "    sample_duration_code = []\n",
    "\n",
    "    for row in range(len(response[\"Data\"])):\n",
    "        date.append(response[\"Data\"][row][\"date_local\"])\n",
    "        state.append(response[\"Data\"][row][\"state\"])\n",
    "        county.append(response[\"Data\"][row][\"county\"])\n",
    "        latitude.append(response[\"Data\"][row][\"latitude\"])\n",
    "        longitude.append(response[\"Data\"][row][\"longitude\"])\n",
    "        parameter.append(response[\"Data\"][row][\"parameter\"])\n",
    "        arithmetic_mean.append(response[\"Data\"][row][\"arithmetic_mean\"])\n",
    "        units_of_measure.append(response[\"Data\"][row][\"units_of_measure\"])\n",
    "        sample_duration_code.append(response[\"Data\"][row][\"sample_duration_code\"])\n",
    "\n",
    "    # create DataFrame\n",
    "    df = pd.DataFrame({\n",
    "        \"date\": date,\n",
    "        \"state\": state,\n",
    "        \"county\": county,\n",
    "        \"latitude\": latitude,\n",
    "        \"longitude\": longitude,\n",
    "        \"sample_duration_code\": sample_duration_code,\n",
    "        \"parameter\": parameter,\n",
    "        \"arithmetic_mean\": arithmetic_mean,\n",
    "        \"units_of_measure\": units_of_measure\n",
    "    })\n",
    "\n",
    "    return df"
   ]
  },
  {
   "cell_type": "code",
   "execution_count": null,
   "metadata": {},
   "outputs": [],
   "source": [
    "# CO_df = pull_data('CO', param_code=42101)\n",
    "# SO2_df = pull_data('SO2', param_code=42401)\n",
    "# NO2_df = pull_data('NO2', param_code=42602)\n",
    "# PM10_df = pull_data('PM10', param_code=81102)\n",
    "# PM25_df = pull_data('PM2.5', param_code=88101)\n",
    "PM25_df"
   ]
  },
  {
   "cell_type": "code",
   "execution_count": 12,
   "metadata": {},
   "outputs": [],
   "source": [
    "# drop duplicate rows\n",
    "CO_df = CO_df.drop_duplicates()\n",
    "SO2_df = SO2_df.drop_duplicates()\n",
    "NO2_df = NO2_df.drop_duplicates()\n",
    "PM10_df = PM10_df.drop_duplicates()\n",
    "PM25_df = PM25_df.drop_duplicates()"
   ]
  },
  {
   "cell_type": "code",
   "execution_count": null,
   "metadata": {},
   "outputs": [],
   "source": [
    "# Merge DataFrames\n",
    "pollution_df = CO_df.merge(SO2_df, how='inner', on=['date', 'state', 'county', 'latitude', 'longitude', 'sample_duration_code'], suffixes=('_CO', '_SO2'))\n",
    "PM_df = PM10_df.merge(PM25_df, how='inner', on=['date', 'state', 'county', 'latitude', 'longitude', 'sample_duration_code'], suffixes=('_PM10', '_PM25'))\n",
    "pollution_df = pollution_df.merge(PM_df, how='inner', on=['date', 'state', 'county', 'latitude', 'longitude', 'sample_duration_code'], suffixes=('_CO', '_SO2'))\n",
    "pollution_df = pollution_df.merge(NO2_df, how='inner', on=['date', 'state', 'county', 'latitude', 'longitude', 'sample_duration_code'])"
   ]
  },
  {
   "cell_type": "code",
   "execution_count": 20,
   "metadata": {},
   "outputs": [
    {
     "data": {
      "text/html": [
       "<div>\n",
       "<style scoped>\n",
       "    .dataframe tbody tr th:only-of-type {\n",
       "        vertical-align: middle;\n",
       "    }\n",
       "\n",
       "    .dataframe tbody tr th {\n",
       "        vertical-align: top;\n",
       "    }\n",
       "\n",
       "    .dataframe thead th {\n",
       "        text-align: right;\n",
       "    }\n",
       "</style>\n",
       "<table border=\"1\" class=\"dataframe\">\n",
       "  <thead>\n",
       "    <tr style=\"text-align: right;\">\n",
       "      <th></th>\n",
       "      <th>date</th>\n",
       "      <th>state</th>\n",
       "      <th>county</th>\n",
       "      <th>latitude</th>\n",
       "      <th>longitude</th>\n",
       "      <th>sample_duration_code</th>\n",
       "      <th>parameter_CO</th>\n",
       "      <th>arithmetic_mean_CO</th>\n",
       "      <th>units_of_measure_CO</th>\n",
       "      <th>parameter_SO2</th>\n",
       "      <th>...</th>\n",
       "      <th>units_of_measure_SO2</th>\n",
       "      <th>parameter</th>\n",
       "      <th>arithmetic_mean</th>\n",
       "      <th>units_of_measure</th>\n",
       "      <th>parameter_PM10</th>\n",
       "      <th>arithmetic_mean_PM10</th>\n",
       "      <th>units_of_measure_PM10</th>\n",
       "      <th>parameter_PM25</th>\n",
       "      <th>arithmetic_mean_PM25</th>\n",
       "      <th>units_of_measure_PM25</th>\n",
       "    </tr>\n",
       "  </thead>\n",
       "  <tbody>\n",
       "    <tr>\n",
       "      <th>0</th>\n",
       "      <td>2024-01-01</td>\n",
       "      <td>North Carolina</td>\n",
       "      <td>Wake</td>\n",
       "      <td>35.856111</td>\n",
       "      <td>-78.574167</td>\n",
       "      <td>1</td>\n",
       "      <td>Carbon monoxide</td>\n",
       "      <td>0.293391</td>\n",
       "      <td>Parts per million</td>\n",
       "      <td>Sulfur dioxide</td>\n",
       "      <td>...</td>\n",
       "      <td>Parts per billion</td>\n",
       "      <td>Nitrogen dioxide (NO2)</td>\n",
       "      <td>7.630435</td>\n",
       "      <td>Parts per billion</td>\n",
       "      <td>PM10 Total 0-10um STP</td>\n",
       "      <td>18.0625</td>\n",
       "      <td>Micrograms/cubic meter (25 C)</td>\n",
       "      <td>PM2.5 - Local Conditions</td>\n",
       "      <td>14.4625</td>\n",
       "      <td>Micrograms/cubic meter (LC)</td>\n",
       "    </tr>\n",
       "  </tbody>\n",
       "</table>\n",
       "<p>1 rows × 21 columns</p>\n",
       "</div>"
      ],
      "text/plain": [
       "         date           state county   latitude  longitude  \\\n",
       "0  2024-01-01  North Carolina   Wake  35.856111 -78.574167   \n",
       "\n",
       "  sample_duration_code     parameter_CO  arithmetic_mean_CO  \\\n",
       "0                    1  Carbon monoxide            0.293391   \n",
       "\n",
       "  units_of_measure_CO   parameter_SO2  ...  units_of_measure_SO2  \\\n",
       "0   Parts per million  Sulfur dioxide  ...     Parts per billion   \n",
       "\n",
       "                parameter arithmetic_mean   units_of_measure  \\\n",
       "0  Nitrogen dioxide (NO2)        7.630435  Parts per billion   \n",
       "\n",
       "          parameter_PM10 arithmetic_mean_PM10          units_of_measure_PM10  \\\n",
       "0  PM10 Total 0-10um STP              18.0625  Micrograms/cubic meter (25 C)   \n",
       "\n",
       "             parameter_PM25 arithmetic_mean_PM25        units_of_measure_PM25  \n",
       "0  PM2.5 - Local Conditions              14.4625  Micrograms/cubic meter (LC)  \n",
       "\n",
       "[1 rows x 21 columns]"
      ]
     },
     "execution_count": 20,
     "metadata": {},
     "output_type": "execute_result"
    }
   ],
   "source": [
    "pollution_df.loc[(pollution_df['date'] == '2024-01-01')]\n",
    "# pollution_df.loc[(pollution_df['date'] == '2024-01-01') | (pollution_df['date'] == '2024-02-01')]\n"
   ]
  },
  {
   "cell_type": "code",
   "execution_count": 23,
   "metadata": {},
   "outputs": [
    {
     "name": "stdout",
     "output_type": "stream",
     "text": [
      "<class 'pandas.core.frame.DataFrame'>\n",
      "RangeIndex: 37 entries, 0 to 36\n",
      "Data columns (total 21 columns):\n",
      " #   Column                 Non-Null Count  Dtype  \n",
      "---  ------                 --------------  -----  \n",
      " 0   date                   37 non-null     object \n",
      " 1   state                  37 non-null     object \n",
      " 2   county                 37 non-null     object \n",
      " 3   latitude               37 non-null     float64\n",
      " 4   longitude              37 non-null     float64\n",
      " 5   sample_duration_code   37 non-null     object \n",
      " 6   parameter_CO           37 non-null     object \n",
      " 7   arithmetic_mean_CO     37 non-null     float64\n",
      " 8   units_of_measure_CO    37 non-null     object \n",
      " 9   parameter_SO2          37 non-null     object \n",
      " 10  arithmetic_mean_SO2    37 non-null     float64\n",
      " 11  units_of_measure_SO2   37 non-null     object \n",
      " 12  parameter_PM10         37 non-null     object \n",
      " 13  arithmetic_mean_PM10   37 non-null     float64\n",
      " 14  units_of_measure_PM10  37 non-null     object \n",
      " 15  parameter_PM25         37 non-null     object \n",
      " 16  arithmetic_mean_PM25   37 non-null     float64\n",
      " 17  units_of_measure_PM25  37 non-null     object \n",
      " 18  parameter              37 non-null     object \n",
      " 19  arithmetic_mean        37 non-null     float64\n",
      " 20  units_of_measure       37 non-null     object \n",
      "dtypes: float64(7), object(14)\n",
      "memory usage: 6.2+ KB\n"
     ]
    }
   ],
   "source": [
    "pollution_df.info()\n",
    "\n",
    "# pollution_df.value_counts(subset=['date'])\n",
    "# pollution_df['date'].value_counts()\n"
   ]
  }
 ],
 "metadata": {
  "kernelspec": {
   "display_name": "dev",
   "language": "python",
   "name": "python3"
  },
  "language_info": {
   "codemirror_mode": {
    "name": "ipython",
    "version": 3
   },
   "file_extension": ".py",
   "mimetype": "text/x-python",
   "name": "python",
   "nbconvert_exporter": "python",
   "pygments_lexer": "ipython3",
   "version": "3.10.14"
  },
  "varInspector": {
   "cols": {
    "lenName": 16,
    "lenType": 16,
    "lenVar": 40
   },
   "kernels_config": {
    "python": {
     "delete_cmd_postfix": "",
     "delete_cmd_prefix": "del ",
     "library": "var_list.py",
     "varRefreshCmd": "print(var_dic_list())"
    },
    "r": {
     "delete_cmd_postfix": ") ",
     "delete_cmd_prefix": "rm(",
     "library": "var_list.r",
     "varRefreshCmd": "cat(var_dic_list()) "
    }
   },
   "types_to_exclude": [
    "module",
    "function",
    "builtin_function_or_method",
    "instance",
    "_Feature"
   ],
   "window_display": false
  }
 },
 "nbformat": 4,
 "nbformat_minor": 2
}
