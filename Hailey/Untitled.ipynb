{
 "cells": [
  {
   "cell_type": "code",
   "execution_count": 1,
   "id": "a114125f-3857-40ef-897e-cd2f5b2bded5",
   "metadata": {},
   "outputs": [],
   "source": [
    "# Import the modules\n",
    "import numpy as np\n",
    "import pandas as pd\n",
    "from pathlib import Path\n",
    "from sklearn.metrics import confusion_matrix, classification_report\n",
    "from sklearn.preprocessing import LabelEncoder\n",
    "from sklearn.linear_model import LogisticRegression\n",
    "from imblearn.over_sampling import SMOTE\n",
    "from sklearn.model_selection import train_test_split\n",
    "from sklearn.preprocessing import StandardScaler\n",
    "import matplotlib.pyplot as plt\n",
    "import seaborn as sns\n",
    "from sklearn.ensemble import RandomForestClassifier\n",
    "from sklearn.preprocessing import QuantileTransformer\n",
    "from sklearn.neighbors import KNeighborsClassifier\n",
    "from sklearn.neighbors import KNeighborsRegressor\n",
    "from keras.models import Sequential\n",
    "from keras.layers import Dense\n",
    "from sklearn.preprocessing import OneHotEncoder"
   ]
  },
  {
   "cell_type": "markdown",
   "id": "97019337-6043-474c-b71f-8e07806ebb53",
   "metadata": {},
   "source": [
    "## Preprocessing"
   ]
  },
  {
   "cell_type": "code",
   "execution_count": 2,
   "id": "0d6b2012-de4e-421e-a149-bb33f3acc367",
   "metadata": {},
   "outputs": [
    {
     "data": {
      "text/html": [
       "<div>\n",
       "<style scoped>\n",
       "    .dataframe tbody tr th:only-of-type {\n",
       "        vertical-align: middle;\n",
       "    }\n",
       "\n",
       "    .dataframe tbody tr th {\n",
       "        vertical-align: top;\n",
       "    }\n",
       "\n",
       "    .dataframe thead th {\n",
       "        text-align: right;\n",
       "    }\n",
       "</style>\n",
       "<table border=\"1\" class=\"dataframe\">\n",
       "  <thead>\n",
       "    <tr style=\"text-align: right;\">\n",
       "      <th></th>\n",
       "      <th>Temperature</th>\n",
       "      <th>Humidity</th>\n",
       "      <th>PM2.5</th>\n",
       "      <th>PM10</th>\n",
       "      <th>NO2</th>\n",
       "      <th>SO2</th>\n",
       "      <th>CO</th>\n",
       "      <th>Proximity_to_Industrial_Areas</th>\n",
       "      <th>Population_Density</th>\n",
       "      <th>Air Quality</th>\n",
       "    </tr>\n",
       "  </thead>\n",
       "  <tbody>\n",
       "    <tr>\n",
       "      <th>0</th>\n",
       "      <td>27.2</td>\n",
       "      <td>51.7</td>\n",
       "      <td>35.1</td>\n",
       "      <td>46.2</td>\n",
       "      <td>26.7</td>\n",
       "      <td>32.2</td>\n",
       "      <td>0.98</td>\n",
       "      <td>11.2</td>\n",
       "      <td>314</td>\n",
       "      <td>Hazardous</td>\n",
       "    </tr>\n",
       "    <tr>\n",
       "      <th>1</th>\n",
       "      <td>26.3</td>\n",
       "      <td>59.3</td>\n",
       "      <td>1.0</td>\n",
       "      <td>6.2</td>\n",
       "      <td>38.3</td>\n",
       "      <td>20.4</td>\n",
       "      <td>0.68</td>\n",
       "      <td>13.5</td>\n",
       "      <td>298</td>\n",
       "      <td>Good</td>\n",
       "    </tr>\n",
       "    <tr>\n",
       "      <th>2</th>\n",
       "      <td>27.9</td>\n",
       "      <td>73.2</td>\n",
       "      <td>20.0</td>\n",
       "      <td>39.4</td>\n",
       "      <td>19.6</td>\n",
       "      <td>5.8</td>\n",
       "      <td>0.95</td>\n",
       "      <td>5.4</td>\n",
       "      <td>309</td>\n",
       "      <td>Good</td>\n",
       "    </tr>\n",
       "    <tr>\n",
       "      <th>3</th>\n",
       "      <td>23.9</td>\n",
       "      <td>51.9</td>\n",
       "      <td>14.7</td>\n",
       "      <td>24.3</td>\n",
       "      <td>5.2</td>\n",
       "      <td>12.6</td>\n",
       "      <td>1.24</td>\n",
       "      <td>4.5</td>\n",
       "      <td>282</td>\n",
       "      <td>Poor</td>\n",
       "    </tr>\n",
       "    <tr>\n",
       "      <th>4</th>\n",
       "      <td>25.2</td>\n",
       "      <td>59.0</td>\n",
       "      <td>26.3</td>\n",
       "      <td>30.9</td>\n",
       "      <td>26.8</td>\n",
       "      <td>13.5</td>\n",
       "      <td>1.06</td>\n",
       "      <td>5.6</td>\n",
       "      <td>293</td>\n",
       "      <td>Poor</td>\n",
       "    </tr>\n",
       "  </tbody>\n",
       "</table>\n",
       "</div>"
      ],
      "text/plain": [
       "   Temperature  Humidity  PM2.5  PM10   NO2   SO2    CO  \\\n",
       "0         27.2      51.7   35.1  46.2  26.7  32.2  0.98   \n",
       "1         26.3      59.3    1.0   6.2  38.3  20.4  0.68   \n",
       "2         27.9      73.2   20.0  39.4  19.6   5.8  0.95   \n",
       "3         23.9      51.9   14.7  24.3   5.2  12.6  1.24   \n",
       "4         25.2      59.0   26.3  30.9  26.8  13.5  1.06   \n",
       "\n",
       "   Proximity_to_Industrial_Areas  Population_Density Air Quality  \n",
       "0                           11.2                 314   Hazardous  \n",
       "1                           13.5                 298        Good  \n",
       "2                            5.4                 309        Good  \n",
       "3                            4.5                 282        Poor  \n",
       "4                            5.6                 293        Poor  "
      ]
     },
     "execution_count": 2,
     "metadata": {},
     "output_type": "execute_result"
    }
   ],
   "source": [
    "# Read the CSV file\n",
    "df = pd.read_csv(\"resources/pollution_dataset.csv\")\n",
    "\n",
    "# Review the DataFrame\n",
    "df.head(5)"
   ]
  },
  {
   "cell_type": "code",
   "execution_count": 3,
   "id": "4d35fd74-8693-4e04-a5fb-2bdb9eb3b292",
   "metadata": {},
   "outputs": [
    {
     "name": "stdout",
     "output_type": "stream",
     "text": [
      "Number of entries: 5000\n"
     ]
    }
   ],
   "source": [
    "num_entries = len(df)\n",
    "print(f\"Number of entries: {num_entries}\")"
   ]
  },
  {
   "cell_type": "code",
   "execution_count": 4,
   "id": "40a39cad-4560-400e-98fa-2e6d074df690",
   "metadata": {},
   "outputs": [
    {
     "name": "stdout",
     "output_type": "stream",
     "text": [
      "Temperature                      0\n",
      "Humidity                         0\n",
      "PM2.5                            0\n",
      "PM10                             0\n",
      "NO2                              0\n",
      "SO2                              0\n",
      "CO                               0\n",
      "Proximity_to_Industrial_Areas    0\n",
      "Population_Density               0\n",
      "Air Quality                      0\n",
      "dtype: int64\n"
     ]
    }
   ],
   "source": [
    "# Check for missing values\n",
    "missing_values = df.isnull().sum()\n",
    "print(missing_values)"
   ]
  },
  {
   "cell_type": "code",
   "execution_count": 5,
   "id": "dbdc2864-0851-432f-afe1-b6ef2ffc0b9f",
   "metadata": {},
   "outputs": [],
   "source": [
    "# Map out classes, since we have 4 of them\n",
    "air_quality_mapping = {\n",
    "    'Good': 0,\n",
    "    'Moderate': 1,\n",
    "    'Poor': 2,\n",
    "    'Hazardous': 3\n",
    "}"
   ]
  },
  {
   "cell_type": "code",
   "execution_count": 6,
   "id": "9cfbb9b2-6c51-4857-930c-92782d4bea34",
   "metadata": {},
   "outputs": [],
   "source": [
    "# Encode the categorical features (Air Quality)\n",
    "label_encoder = LabelEncoder()\n",
    "df['air_quality_encoded'] = df['Air Quality'].map(air_quality_mapping)"
   ]
  },
  {
   "cell_type": "code",
   "execution_count": 7,
   "id": "1fc72051-2379-4f9f-acaa-17b61fadaae8",
   "metadata": {},
   "outputs": [
    {
     "data": {
      "text/html": [
       "<div>\n",
       "<style scoped>\n",
       "    .dataframe tbody tr th:only-of-type {\n",
       "        vertical-align: middle;\n",
       "    }\n",
       "\n",
       "    .dataframe tbody tr th {\n",
       "        vertical-align: top;\n",
       "    }\n",
       "\n",
       "    .dataframe thead th {\n",
       "        text-align: right;\n",
       "    }\n",
       "</style>\n",
       "<table border=\"1\" class=\"dataframe\">\n",
       "  <thead>\n",
       "    <tr style=\"text-align: right;\">\n",
       "      <th></th>\n",
       "      <th>Temperature</th>\n",
       "      <th>Humidity</th>\n",
       "      <th>PM2.5</th>\n",
       "      <th>PM10</th>\n",
       "      <th>NO2</th>\n",
       "      <th>SO2</th>\n",
       "      <th>CO</th>\n",
       "      <th>Proximity_to_Industrial_Areas</th>\n",
       "      <th>Population_Density</th>\n",
       "      <th>Air Quality</th>\n",
       "      <th>air_quality_encoded</th>\n",
       "    </tr>\n",
       "  </thead>\n",
       "  <tbody>\n",
       "    <tr>\n",
       "      <th>0</th>\n",
       "      <td>27.2</td>\n",
       "      <td>51.7</td>\n",
       "      <td>35.1</td>\n",
       "      <td>46.2</td>\n",
       "      <td>26.7</td>\n",
       "      <td>32.2</td>\n",
       "      <td>0.98</td>\n",
       "      <td>11.2</td>\n",
       "      <td>314</td>\n",
       "      <td>Hazardous</td>\n",
       "      <td>3</td>\n",
       "    </tr>\n",
       "    <tr>\n",
       "      <th>1</th>\n",
       "      <td>26.3</td>\n",
       "      <td>59.3</td>\n",
       "      <td>1.0</td>\n",
       "      <td>6.2</td>\n",
       "      <td>38.3</td>\n",
       "      <td>20.4</td>\n",
       "      <td>0.68</td>\n",
       "      <td>13.5</td>\n",
       "      <td>298</td>\n",
       "      <td>Good</td>\n",
       "      <td>0</td>\n",
       "    </tr>\n",
       "    <tr>\n",
       "      <th>2</th>\n",
       "      <td>27.9</td>\n",
       "      <td>73.2</td>\n",
       "      <td>20.0</td>\n",
       "      <td>39.4</td>\n",
       "      <td>19.6</td>\n",
       "      <td>5.8</td>\n",
       "      <td>0.95</td>\n",
       "      <td>5.4</td>\n",
       "      <td>309</td>\n",
       "      <td>Good</td>\n",
       "      <td>0</td>\n",
       "    </tr>\n",
       "    <tr>\n",
       "      <th>3</th>\n",
       "      <td>23.9</td>\n",
       "      <td>51.9</td>\n",
       "      <td>14.7</td>\n",
       "      <td>24.3</td>\n",
       "      <td>5.2</td>\n",
       "      <td>12.6</td>\n",
       "      <td>1.24</td>\n",
       "      <td>4.5</td>\n",
       "      <td>282</td>\n",
       "      <td>Poor</td>\n",
       "      <td>2</td>\n",
       "    </tr>\n",
       "    <tr>\n",
       "      <th>4</th>\n",
       "      <td>25.2</td>\n",
       "      <td>59.0</td>\n",
       "      <td>26.3</td>\n",
       "      <td>30.9</td>\n",
       "      <td>26.8</td>\n",
       "      <td>13.5</td>\n",
       "      <td>1.06</td>\n",
       "      <td>5.6</td>\n",
       "      <td>293</td>\n",
       "      <td>Poor</td>\n",
       "      <td>2</td>\n",
       "    </tr>\n",
       "  </tbody>\n",
       "</table>\n",
       "</div>"
      ],
      "text/plain": [
       "   Temperature  Humidity  PM2.5  PM10   NO2   SO2    CO  \\\n",
       "0         27.2      51.7   35.1  46.2  26.7  32.2  0.98   \n",
       "1         26.3      59.3    1.0   6.2  38.3  20.4  0.68   \n",
       "2         27.9      73.2   20.0  39.4  19.6   5.8  0.95   \n",
       "3         23.9      51.9   14.7  24.3   5.2  12.6  1.24   \n",
       "4         25.2      59.0   26.3  30.9  26.8  13.5  1.06   \n",
       "\n",
       "   Proximity_to_Industrial_Areas  Population_Density Air Quality  \\\n",
       "0                           11.2                 314   Hazardous   \n",
       "1                           13.5                 298        Good   \n",
       "2                            5.4                 309        Good   \n",
       "3                            4.5                 282        Poor   \n",
       "4                            5.6                 293        Poor   \n",
       "\n",
       "   air_quality_encoded  \n",
       "0                    3  \n",
       "1                    0  \n",
       "2                    0  \n",
       "3                    2  \n",
       "4                    2  "
      ]
     },
     "execution_count": 7,
     "metadata": {},
     "output_type": "execute_result"
    }
   ],
   "source": [
    "df.head(5)"
   ]
  },
  {
   "cell_type": "code",
   "execution_count": 8,
   "id": "ddb509c5-9e58-494f-9be9-2dd6a214f751",
   "metadata": {},
   "outputs": [],
   "source": [
    "# Drop the Air Quality column\n",
    "df=df.drop(columns=['Air Quality'])"
   ]
  },
  {
   "cell_type": "code",
   "execution_count": 9,
   "id": "1a56c3c5-fd0e-446b-a6d8-ddfc191c6d54",
   "metadata": {},
   "outputs": [
    {
     "data": {
      "text/html": [
       "<div>\n",
       "<style scoped>\n",
       "    .dataframe tbody tr th:only-of-type {\n",
       "        vertical-align: middle;\n",
       "    }\n",
       "\n",
       "    .dataframe tbody tr th {\n",
       "        vertical-align: top;\n",
       "    }\n",
       "\n",
       "    .dataframe thead th {\n",
       "        text-align: right;\n",
       "    }\n",
       "</style>\n",
       "<table border=\"1\" class=\"dataframe\">\n",
       "  <thead>\n",
       "    <tr style=\"text-align: right;\">\n",
       "      <th></th>\n",
       "      <th>Temperature</th>\n",
       "      <th>Humidity</th>\n",
       "      <th>PM2.5</th>\n",
       "      <th>PM10</th>\n",
       "      <th>NO2</th>\n",
       "      <th>SO2</th>\n",
       "      <th>CO</th>\n",
       "      <th>Proximity_to_Industrial_Areas</th>\n",
       "      <th>Population_Density</th>\n",
       "      <th>air_quality_encoded</th>\n",
       "    </tr>\n",
       "  </thead>\n",
       "  <tbody>\n",
       "    <tr>\n",
       "      <th>0</th>\n",
       "      <td>27.2</td>\n",
       "      <td>51.7</td>\n",
       "      <td>35.1</td>\n",
       "      <td>46.2</td>\n",
       "      <td>26.7</td>\n",
       "      <td>32.2</td>\n",
       "      <td>0.98</td>\n",
       "      <td>11.2</td>\n",
       "      <td>314</td>\n",
       "      <td>3</td>\n",
       "    </tr>\n",
       "    <tr>\n",
       "      <th>1</th>\n",
       "      <td>26.3</td>\n",
       "      <td>59.3</td>\n",
       "      <td>1.0</td>\n",
       "      <td>6.2</td>\n",
       "      <td>38.3</td>\n",
       "      <td>20.4</td>\n",
       "      <td>0.68</td>\n",
       "      <td>13.5</td>\n",
       "      <td>298</td>\n",
       "      <td>0</td>\n",
       "    </tr>\n",
       "    <tr>\n",
       "      <th>2</th>\n",
       "      <td>27.9</td>\n",
       "      <td>73.2</td>\n",
       "      <td>20.0</td>\n",
       "      <td>39.4</td>\n",
       "      <td>19.6</td>\n",
       "      <td>5.8</td>\n",
       "      <td>0.95</td>\n",
       "      <td>5.4</td>\n",
       "      <td>309</td>\n",
       "      <td>0</td>\n",
       "    </tr>\n",
       "    <tr>\n",
       "      <th>3</th>\n",
       "      <td>23.9</td>\n",
       "      <td>51.9</td>\n",
       "      <td>14.7</td>\n",
       "      <td>24.3</td>\n",
       "      <td>5.2</td>\n",
       "      <td>12.6</td>\n",
       "      <td>1.24</td>\n",
       "      <td>4.5</td>\n",
       "      <td>282</td>\n",
       "      <td>2</td>\n",
       "    </tr>\n",
       "    <tr>\n",
       "      <th>4</th>\n",
       "      <td>25.2</td>\n",
       "      <td>59.0</td>\n",
       "      <td>26.3</td>\n",
       "      <td>30.9</td>\n",
       "      <td>26.8</td>\n",
       "      <td>13.5</td>\n",
       "      <td>1.06</td>\n",
       "      <td>5.6</td>\n",
       "      <td>293</td>\n",
       "      <td>2</td>\n",
       "    </tr>\n",
       "  </tbody>\n",
       "</table>\n",
       "</div>"
      ],
      "text/plain": [
       "   Temperature  Humidity  PM2.5  PM10   NO2   SO2    CO  \\\n",
       "0         27.2      51.7   35.1  46.2  26.7  32.2  0.98   \n",
       "1         26.3      59.3    1.0   6.2  38.3  20.4  0.68   \n",
       "2         27.9      73.2   20.0  39.4  19.6   5.8  0.95   \n",
       "3         23.9      51.9   14.7  24.3   5.2  12.6  1.24   \n",
       "4         25.2      59.0   26.3  30.9  26.8  13.5  1.06   \n",
       "\n",
       "   Proximity_to_Industrial_Areas  Population_Density  air_quality_encoded  \n",
       "0                           11.2                 314                    3  \n",
       "1                           13.5                 298                    0  \n",
       "2                            5.4                 309                    0  \n",
       "3                            4.5                 282                    2  \n",
       "4                            5.6                 293                    2  "
      ]
     },
     "execution_count": 9,
     "metadata": {},
     "output_type": "execute_result"
    }
   ],
   "source": [
    "df.head(5)"
   ]
  },
  {
   "cell_type": "markdown",
   "id": "bd070b8a-89eb-4710-bc6f-29c9c00f83e8",
   "metadata": {},
   "source": [
    "## Scale Features"
   ]
  },
  {
   "cell_type": "code",
   "execution_count": 10,
   "id": "053a5baa-44c1-4ffe-a5ad-0b8422b8ebd9",
   "metadata": {},
   "outputs": [],
   "source": [
    "# Feature scaling\n",
    "features_to_scale = df[['Temperature', 'Humidity', 'PM2.5', 'PM10', 'NO2', 'SO2', 'CO', 'Population_Density']]\n",
    "target_variables = df['air_quality_encoded']"
   ]
  },
  {
   "cell_type": "code",
   "execution_count": 11,
   "id": "464c2658-5cca-445d-84ee-1c82bfbadedd",
   "metadata": {},
   "outputs": [],
   "source": [
    "scaler = StandardScaler()\n",
    "scaled_features = scaler.fit_transform(features_to_scale)"
   ]
  },
  {
   "cell_type": "code",
   "execution_count": 12,
   "id": "5be873fd-19b4-4b30-a97b-234fb8c87156",
   "metadata": {},
   "outputs": [],
   "source": [
    "scaled_df = pd.DataFrame(scaled_features, columns=features_to_scale.columns)"
   ]
  },
  {
   "cell_type": "code",
   "execution_count": 13,
   "id": "dc59d38a-b9da-4a7a-bcd4-1e6436d22344",
   "metadata": {},
   "outputs": [],
   "source": [
    "# Don't scale the air_quality_encoded column\n",
    "scaled_df['air_quality_encoded'] = target_variables.values"
   ]
  },
  {
   "cell_type": "code",
   "execution_count": 14,
   "id": "f4a18bae-7123-44d9-b630-ec752bad43cb",
   "metadata": {},
   "outputs": [
    {
     "data": {
      "text/html": [
       "<div>\n",
       "<style scoped>\n",
       "    .dataframe tbody tr th:only-of-type {\n",
       "        vertical-align: middle;\n",
       "    }\n",
       "\n",
       "    .dataframe tbody tr th {\n",
       "        vertical-align: top;\n",
       "    }\n",
       "\n",
       "    .dataframe thead th {\n",
       "        text-align: right;\n",
       "    }\n",
       "</style>\n",
       "<table border=\"1\" class=\"dataframe\">\n",
       "  <thead>\n",
       "    <tr style=\"text-align: right;\">\n",
       "      <th></th>\n",
       "      <th>Temperature</th>\n",
       "      <th>Humidity</th>\n",
       "      <th>PM2.5</th>\n",
       "      <th>PM10</th>\n",
       "      <th>NO2</th>\n",
       "      <th>SO2</th>\n",
       "      <th>CO</th>\n",
       "      <th>Population_Density</th>\n",
       "      <th>air_quality_encoded</th>\n",
       "    </tr>\n",
       "  </thead>\n",
       "  <tbody>\n",
       "    <tr>\n",
       "      <th>0</th>\n",
       "      <td>0.316355</td>\n",
       "      <td>-0.556270</td>\n",
       "      <td>0.171530</td>\n",
       "      <td>0.201899</td>\n",
       "      <td>0.504399</td>\n",
       "      <td>2.224780</td>\n",
       "      <td>0.254142</td>\n",
       "      <td>0.816329</td>\n",
       "      <td>3</td>\n",
       "    </tr>\n",
       "    <tr>\n",
       "      <th>1</th>\n",
       "      <td>0.152291</td>\n",
       "      <td>-0.051062</td>\n",
       "      <td>-0.954519</td>\n",
       "      <td>-1.101455</td>\n",
       "      <td>1.530961</td>\n",
       "      <td>0.685856</td>\n",
       "      <td>-0.753211</td>\n",
       "      <td>-0.113179</td>\n",
       "      <td>0</td>\n",
       "    </tr>\n",
       "    <tr>\n",
       "      <th>2</th>\n",
       "      <td>0.443960</td>\n",
       "      <td>0.872937</td>\n",
       "      <td>-0.327102</td>\n",
       "      <td>-0.019671</td>\n",
       "      <td>-0.123927</td>\n",
       "      <td>-1.218235</td>\n",
       "      <td>0.153406</td>\n",
       "      <td>0.525857</td>\n",
       "      <td>0</td>\n",
       "    </tr>\n",
       "    <tr>\n",
       "      <th>3</th>\n",
       "      <td>-0.285212</td>\n",
       "      <td>-0.542975</td>\n",
       "      <td>-0.502118</td>\n",
       "      <td>-0.511687</td>\n",
       "      <td>-1.398279</td>\n",
       "      <td>-0.331398</td>\n",
       "      <td>1.127180</td>\n",
       "      <td>-1.042687</td>\n",
       "      <td>2</td>\n",
       "    </tr>\n",
       "    <tr>\n",
       "      <th>4</th>\n",
       "      <td>-0.048231</td>\n",
       "      <td>-0.071004</td>\n",
       "      <td>-0.119063</td>\n",
       "      <td>-0.296634</td>\n",
       "      <td>0.513249</td>\n",
       "      <td>-0.214022</td>\n",
       "      <td>0.522769</td>\n",
       "      <td>-0.403650</td>\n",
       "      <td>2</td>\n",
       "    </tr>\n",
       "  </tbody>\n",
       "</table>\n",
       "</div>"
      ],
      "text/plain": [
       "   Temperature  Humidity     PM2.5      PM10       NO2       SO2        CO  \\\n",
       "0     0.316355 -0.556270  0.171530  0.201899  0.504399  2.224780  0.254142   \n",
       "1     0.152291 -0.051062 -0.954519 -1.101455  1.530961  0.685856 -0.753211   \n",
       "2     0.443960  0.872937 -0.327102 -0.019671 -0.123927 -1.218235  0.153406   \n",
       "3    -0.285212 -0.542975 -0.502118 -0.511687 -1.398279 -0.331398  1.127180   \n",
       "4    -0.048231 -0.071004 -0.119063 -0.296634  0.513249 -0.214022  0.522769   \n",
       "\n",
       "   Population_Density  air_quality_encoded  \n",
       "0            0.816329                    3  \n",
       "1           -0.113179                    0  \n",
       "2            0.525857                    0  \n",
       "3           -1.042687                    2  \n",
       "4           -0.403650                    2  "
      ]
     },
     "execution_count": 14,
     "metadata": {},
     "output_type": "execute_result"
    }
   ],
   "source": [
    "scaled_df.head(5)"
   ]
  },
  {
   "cell_type": "markdown",
   "id": "0c451b01-76ba-4d45-a0bc-ed3e99591667",
   "metadata": {},
   "source": [
    "## Check and normalize skewness"
   ]
  },
  {
   "cell_type": "code",
   "execution_count": null,
   "id": "6632e620-473f-40bf-9cda-cc70a246807f",
   "metadata": {},
   "outputs": [],
   "source": [
    "numerical_cols = df.select_dtypes(include=['float64', 'int64']).columns"
   ]
  },
  {
   "cell_type": "code",
   "execution_count": null,
   "id": "be688dc0-bc01-4f78-8233-7ecc690c483b",
   "metadata": {},
   "outputs": [],
   "source": [
    "# Values over 1 or under -1 are skewed\n",
    "skewness_values = df[numerical_cols].skew()\n",
    "skewness_values"
   ]
  },
  {
   "cell_type": "code",
   "execution_count": null,
   "id": "d7640155-dcee-427c-921a-e36ec248334c",
   "metadata": {},
   "outputs": [],
   "source": [
    "# Use quartile transformer to normalize the data\n",
    "qt = QuantileTransformer(output_distribution='normal')\n",
    "df[['PM2.5', 'PM10', 'Proximity_to_Industrial_Areas']] = qt.fit_transform(df[['PM2.5', 'PM10', 'Proximity_to_Industrial_Areas']])"
   ]
  },
  {
   "cell_type": "code",
   "execution_count": null,
   "id": "9115fbbe-7296-4f9c-bfef-354d4287162d",
   "metadata": {},
   "outputs": [],
   "source": [
    "# Confirm skewed columns were fixed\n",
    "skewness_values = df[numerical_cols].skew()\n",
    "skewness_values"
   ]
  },
  {
   "cell_type": "markdown",
   "id": "f3741f39-3329-408e-9de4-4eec3b55252d",
   "metadata": {},
   "source": [
    "## Find and remove outliers"
   ]
  },
  {
   "cell_type": "code",
   "execution_count": null,
   "id": "a01e256a-676a-4f88-9a45-d3c2b6966e00",
   "metadata": {},
   "outputs": [],
   "source": [
    "# Create a dictionary to hold outliers\n",
    "outliers_dict = {}"
   ]
  },
  {
   "cell_type": "code",
   "execution_count": null,
   "id": "2966bf0c-b00a-4a14-a41d-dfe80ea4f1a3",
   "metadata": {},
   "outputs": [],
   "source": [
    "# Define a function to detect outliers using the IQR method\n",
    "def detect_outliers_iqr(data):\n",
    "    outliers_dict = {}\n",
    "    for column in data.columns:\n",
    "        if column != 'air_quality_encoded':  # Exclude the target variable\n",
    "            Q1 = data[column].quantile(0.25)\n",
    "            Q3 = data[column].quantile(0.75)\n",
    "            IQR = Q3 - Q1\n",
    "            lower_bound = Q1 - 1.5 * IQR\n",
    "            upper_bound = Q3 + 1.5 * IQR\n",
    "            outliers = data[(data[column] < lower_bound) | (data[column] > upper_bound)]\n",
    "            outliers_dict[column] = outliers\n",
    "    return outliers_dict"
   ]
  },
  {
   "cell_type": "code",
   "execution_count": null,
   "id": "368bf2b8-1b35-4d40-a8c0-fd519748082f",
   "metadata": {},
   "outputs": [],
   "source": [
    "# Detect outliers in the DataFrame\n",
    "outliers_dict = detect_outliers_iqr(df)"
   ]
  },
  {
   "cell_type": "code",
   "execution_count": null,
   "id": "b48158e6-f70c-400f-b5d3-26b45451d374",
   "metadata": {},
   "outputs": [],
   "source": [
    "# Print outliers for each column (excluding air_quality_encoded)\n",
    "for column, outliers in outliers_dict.items():\n",
    "    print(f\"Outliers in column '{column}':\")\n",
    "    print(outliers)\n",
    "    print(\"\\n\")"
   ]
  },
  {
   "cell_type": "code",
   "execution_count": null,
   "id": "d7e98a1d-5894-41fb-b975-10137705f968",
   "metadata": {},
   "outputs": [],
   "source": [
    "outliers_dict[column] = outliers"
   ]
  },
  {
   "cell_type": "code",
   "execution_count": null,
   "id": "69c74b70-5896-48d2-982f-b98add8aeb2f",
   "metadata": {},
   "outputs": [],
   "source": [
    "# Define a function to remove outliers using the IQR method\n",
    "\n",
    "def remove_outliers_iqr(data):\n",
    "    for column in data.columns:\n",
    "        if column != 'air_quality_encoded':  # Exclude the target variable\n",
    "            Q1 = data[column].quantile(0.25)\n",
    "            Q3 = data[column].quantile(0.75)\n",
    "            IQR = Q3 - Q1\n",
    "            lower_bound = Q1 - 1.5 * IQR\n",
    "            upper_bound = Q3 + 1.5 * IQR\n",
    "            \n",
    "            # Remove outliers\n",
    "            data = data[(data[column] >= lower_bound) & (data[column] <= upper_bound)]\n",
    "    return data"
   ]
  },
  {
   "cell_type": "code",
   "execution_count": null,
   "id": "cbc1766c-3580-4499-b978-3a1fa777af31",
   "metadata": {},
   "outputs": [],
   "source": [
    "cleaned_df = remove_outliers_iqr(df)"
   ]
  },
  {
   "cell_type": "code",
   "execution_count": null,
   "id": "c82d704b-195c-417c-9013-c3b27797b672",
   "metadata": {},
   "outputs": [],
   "source": [
    "# Confirm outliers were removed\n",
    "print(f\"Original DataFrame shape: {df.shape}\")\n",
    "print(f\"Cleaned DataFrame shape: {cleaned_df.shape}\")"
   ]
  },
  {
   "cell_type": "markdown",
   "id": "6479cc8b-ec83-4ddb-8e16-352eae9ac89e",
   "metadata": {},
   "source": [
    "## Check class distribution and use SMOTE to resample it"
   ]
  },
  {
   "cell_type": "code",
   "execution_count": null,
   "id": "45a9c8e6-ae98-46bc-b771-c1be72f49af8",
   "metadata": {},
   "outputs": [],
   "source": [
    "class_distribution = df['air_quality_encoded'].value_counts()\n",
    "print(class_distribution)"
   ]
  },
  {
   "cell_type": "code",
   "execution_count": null,
   "id": "952f443b-0c69-40fc-a3c2-e200610c7f92",
   "metadata": {},
   "outputs": [],
   "source": [
    "X = df.drop(columns=['air_quality_encoded'])  # Features\n",
    "y = df['air_quality_encoded']  # Target variables"
   ]
  },
  {
   "cell_type": "code",
   "execution_count": null,
   "id": "72afb30d-a443-4093-ab9a-4959ddf38853",
   "metadata": {},
   "outputs": [],
   "source": [
    "# Split the data into training and testing sets\n",
    "X_train, X_test, y_train, y_test = train_test_split(X, y, test_size=0.2, random_state=42)"
   ]
  },
  {
   "cell_type": "code",
   "execution_count": null,
   "id": "cccc5cb6-ca8e-475e-8ccd-43b9c8d5d076",
   "metadata": {},
   "outputs": [],
   "source": [
    "# Initialize SMOTE\n",
    "smote = SMOTE(random_state=42)"
   ]
  },
  {
   "cell_type": "code",
   "execution_count": null,
   "id": "f5327c84-e2d9-4e12-bd01-e8937b2a866e",
   "metadata": {},
   "outputs": [],
   "source": [
    "X_resampled, y_resampled = smote.fit_resample(X_train, y_train)"
   ]
  },
  {
   "cell_type": "code",
   "execution_count": null,
   "id": "c3a3b6b6-9269-43b9-ae96-c7bbab005b38",
   "metadata": {},
   "outputs": [],
   "source": [
    "# Confirming resampling was implemented\n",
    "print(\"Original class distribution:\")\n",
    "print(y_train.value_counts())\n",
    "print(\"\\nResampled class distribution:\")\n",
    "print(y_resampled.value_counts())"
   ]
  },
  {
   "cell_type": "markdown",
   "id": "9260908a-5a16-4e67-b29e-beb65df30dbf",
   "metadata": {},
   "source": [
    "## Random Forest model"
   ]
  },
  {
   "cell_type": "code",
   "execution_count": null,
   "id": "7b10199d-5dac-4774-b385-85f237ae850a",
   "metadata": {},
   "outputs": [],
   "source": [
    "# Train a Random Forest model\n",
    "model = RandomForestClassifier(random_state=42)\n",
    "model.fit(X_train, y_train)"
   ]
  },
  {
   "cell_type": "code",
   "execution_count": null,
   "id": "3d8af61d-7499-47d2-bbad-0cac249976af",
   "metadata": {},
   "outputs": [],
   "source": [
    "# Make predictions on the test set\n",
    "y_pred = model.predict(X_test)"
   ]
  },
  {
   "cell_type": "code",
   "execution_count": null,
   "id": "479ac1c8-aa47-4a99-8e38-ee0ac9b70110",
   "metadata": {},
   "outputs": [],
   "source": [
    "report = classification_report(y_test, y_pred)\n",
    "print(report)"
   ]
  },
  {
   "cell_type": "markdown",
   "id": "d3b6679d-126d-4235-9fa6-a34aa58e279e",
   "metadata": {},
   "source": [
    "## Check feature importance"
   ]
  },
  {
   "cell_type": "code",
   "execution_count": null,
   "id": "f3dc2b8e-774e-45c6-94a9-fbd010792673",
   "metadata": {},
   "outputs": [],
   "source": [
    "importances = model.feature_importances_"
   ]
  },
  {
   "cell_type": "code",
   "execution_count": null,
   "id": "34342d3a-310a-45d4-bb41-d51803e0c272",
   "metadata": {},
   "outputs": [],
   "source": [
    "# Create a DataFrame for feature importances\n",
    "feature_importances = pd.DataFrame({'Feature': X.columns, 'Importance': importances})\n",
    "feature_importances = feature_importances.sort_values(by='Importance', ascending=False)"
   ]
  },
  {
   "cell_type": "code",
   "execution_count": null,
   "id": "43d347c4-2061-4121-af34-5a84a1ebcb8a",
   "metadata": {},
   "outputs": [],
   "source": [
    "plt.figure(figsize=(10, 6))\n",
    "plt.barh(feature_importances['Feature'], feature_importances['Importance'], color='skyblue')\n",
    "plt.xlabel('Importance')\n",
    "plt.title('Feature Importance')\n",
    "plt.gca().invert_yaxis()\n",
    "plt.show()"
   ]
  },
  {
   "cell_type": "markdown",
   "id": "48b623ab-236c-4de7-a632-c8bf7fa5e148",
   "metadata": {},
   "source": [
    "## KMEANS model"
   ]
  },
  {
   "cell_type": "code",
   "execution_count": null,
   "id": "d2a2c057-4a81-402e-b07e-f299896cb8a9",
   "metadata": {},
   "outputs": [],
   "source": [
    "scaler = StandardScaler()\n",
    "X_train_scaled = scaler.fit_transform(X_train)\n",
    "X_test_scaled = scaler.transform(X_test)"
   ]
  },
  {
   "cell_type": "code",
   "execution_count": null,
   "id": "22074af1-b025-46d0-bec7-31f59f54d545",
   "metadata": {},
   "outputs": [],
   "source": [
    "k = 3\n",
    "model = KNeighborsClassifier(n_neighbors=k)"
   ]
  },
  {
   "cell_type": "code",
   "execution_count": null,
   "id": "dce52773-68c2-4dba-8785-c5da6b4d832c",
   "metadata": {},
   "outputs": [],
   "source": [
    "model.fit(X_train_scaled, y_train)"
   ]
  },
  {
   "cell_type": "code",
   "execution_count": null,
   "id": "0d21214e-a248-4810-ad15-e722d715c128",
   "metadata": {},
   "outputs": [],
   "source": [
    "predictions = model.predict(X_test_scaled)"
   ]
  },
  {
   "cell_type": "code",
   "execution_count": null,
   "id": "a35f0740-6b71-4bd1-bfad-e564345976f0",
   "metadata": {},
   "outputs": [],
   "source": [
    "from sklearn.metrics import accuracy_score, classification_report"
   ]
  },
  {
   "cell_type": "code",
   "execution_count": null,
   "id": "35de94a7-f1b0-41e6-be51-da56aab45553",
   "metadata": {},
   "outputs": [],
   "source": [
    "print(\"Accuracy:\", accuracy_score(y_test, predictions))\n",
    "print(classification_report(y_test, predictions))"
   ]
  },
  {
   "cell_type": "markdown",
   "id": "84aa5b85-a885-4be3-bb81-b21670a1287e",
   "metadata": {},
   "source": [
    "## NN Model"
   ]
  },
  {
   "cell_type": "code",
   "execution_count": null,
   "id": "31a161d3-6ec4-43b1-892a-e1591f23dec8",
   "metadata": {},
   "outputs": [],
   "source": [
    "print(X_train.shape)"
   ]
  },
  {
   "cell_type": "code",
   "execution_count": null,
   "id": "c5f3f5ab-bad0-41dd-b759-1fb8ef599f61",
   "metadata": {},
   "outputs": [],
   "source": [
    "y_train_array = y_train.values.reshape(-1, 1)\n",
    "encoder = OneHotEncoder(sparse_output=False)\n",
    "y_train_encoded = encoder.fit_transform(y_train_array)"
   ]
  },
  {
   "cell_type": "code",
   "execution_count": null,
   "id": "12b0f9af-0ea8-406c-85db-727b914467f7",
   "metadata": {},
   "outputs": [],
   "source": [
    "nn_model = tf.keras.models.Sequential()\n",
    "nn_model.add(tf.keras.layers.Input(shape=(9,)))  # Ensure this matches the number of features in X_train\n",
    "nn_model.add(tf.keras.layers.Dense(10, activation='relu'))  # First hidden layer\n",
    "nn_model.add(tf.keras.layers.Dense(5, activation='relu'))   # Second hidden layer"
   ]
  },
  {
   "cell_type": "code",
   "execution_count": null,
   "id": "6f2c08ec-e5c9-4338-8209-38f1555bcf20",
   "metadata": {},
   "outputs": [],
   "source": [
    "nn_model.add(tf.keras.layers.Dense(4, activation='softmax'))  # Output layer for 4 classes"
   ]
  },
  {
   "cell_type": "code",
   "execution_count": null,
   "id": "679c6085-4a2e-4b38-b6cb-f0e1ddc3064b",
   "metadata": {},
   "outputs": [],
   "source": [
    "nn_model.compile(optimizer='adam', loss='categorical_crossentropy', metrics=['accuracy'])"
   ]
  },
  {
   "cell_type": "code",
   "execution_count": null,
   "id": "7e4570b5-56e3-461c-89d3-7d27e108c135",
   "metadata": {},
   "outputs": [],
   "source": [
    "nn_model.fit(X_train, y_train_encoded, epochs=50, batch_size=10)"
   ]
  },
  {
   "cell_type": "code",
   "execution_count": null,
   "id": "d84eb1c5-218a-4ce3-a9b3-5bf7370afc5b",
   "metadata": {},
   "outputs": [],
   "source": [
    "y_test_array = y_test.values.reshape(-1, 1)\n",
    "y_test_encoded = encoder.transform(y_test_array)  # Use transform to keep the same encoding"
   ]
  },
  {
   "cell_type": "code",
   "execution_count": null,
   "id": "f6914668-1ae8-4f28-8d9f-9be38683dcc7",
   "metadata": {},
   "outputs": [],
   "source": [
    "loss, accuracy = nn_model.evaluate(X_test, y_test_encoded)\n",
    "print(f'Loss: {loss}, Accuracy: {accuracy}')"
   ]
  },
  {
   "cell_type": "code",
   "execution_count": null,
   "id": "51da3a9c-b6bc-40d9-9ae4-e91e93aacd59",
   "metadata": {},
   "outputs": [],
   "source": [
    "y_pred = nn_model.predict(X_test)\n",
    "y_pred_classes = np.argmax(y_pred, axis=1)  # Get the class with the highest probability\n",
    "y_test_classes = np.argmax(y_test_encoded, axis=1)  # Get the true classes"
   ]
  },
  {
   "cell_type": "code",
   "execution_count": null,
   "id": "aa01afca-bb79-4432-9511-9dd48f24a8b2",
   "metadata": {},
   "outputs": [],
   "source": [
    "report = classification_report(y_test_classes, y_pred_classes)\n",
    "print(report)"
   ]
  },
  {
   "cell_type": "code",
   "execution_count": null,
   "id": "0f64d4c0-c1a7-4b71-b131-f690035c4f6e",
   "metadata": {},
   "outputs": [],
   "source": [
    "model = LogisticRegression(multi_class='ovr', max_iter=1000)  # Use 'multinomial' for softmax if needed"
   ]
  },
  {
   "cell_type": "code",
   "execution_count": null,
   "id": "5a9e1ade-1fbd-4a2b-ab3b-c2072abb7fc0",
   "metadata": {},
   "outputs": [],
   "source": [
    "model.fit(X_train, y_train)"
   ]
  },
  {
   "cell_type": "code",
   "execution_count": null,
   "id": "b6515d19-0ffe-4025-b5af-6aa18dd6b279",
   "metadata": {},
   "outputs": [],
   "source": [
    "y_pred = model.predict(X_test)"
   ]
  },
  {
   "cell_type": "code",
   "execution_count": null,
   "id": "6ff124d3-fbf4-4aec-868a-f99ff3326446",
   "metadata": {},
   "outputs": [],
   "source": [
    "print(classification_report(y_test, y_pred))"
   ]
  },
  {
   "cell_type": "code",
   "execution_count": null,
   "id": "b42bf3ba-24a7-4b7d-9167-760c0c251cb4",
   "metadata": {},
   "outputs": [],
   "source": [
    "conf_matrix = confusion_matrix(y_test, y_pred)\n",
    "print(conf_matrix)"
   ]
  }
 ],
 "metadata": {
  "kernelspec": {
   "display_name": "Python 3 (ipykernel)",
   "language": "python",
   "name": "python3"
  },
  "language_info": {
   "codemirror_mode": {
    "name": "ipython",
    "version": 3
   },
   "file_extension": ".py",
   "mimetype": "text/x-python",
   "name": "python",
   "nbconvert_exporter": "python",
   "pygments_lexer": "ipython3",
   "version": "3.12.4"
  }
 },
 "nbformat": 4,
 "nbformat_minor": 5
}
